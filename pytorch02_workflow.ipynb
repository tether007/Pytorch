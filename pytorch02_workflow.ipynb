{
  "nbformat": 4,
  "nbformat_minor": 0,
  "metadata": {
    "colab": {
      "provenance": [],
      "gpuType": "T4",
      "toc_visible": true,
      "authorship_tag": "ABX9TyPQp0U4hgWkYzRfOVm7Hp3q",
      "include_colab_link": true
    },
    "kernelspec": {
      "name": "python3",
      "display_name": "Python 3"
    },
    "language_info": {
      "name": "python"
    },
    "accelerator": "GPU"
  },
  "cells": [
    {
      "cell_type": "markdown",
      "metadata": {
        "id": "view-in-github",
        "colab_type": "text"
      },
      "source": [
        "<a href=\"https://colab.research.google.com/github/tether007/Pytorch/blob/main/pytorch02_workflow.ipynb\" target=\"_parent\"><img src=\"https://colab.research.google.com/assets/colab-badge.svg\" alt=\"Open In Colab\"/></a>"
      ]
    },
    {
      "cell_type": "markdown",
      "source": [
        "# pytorch workflow\n",
        "\n",
        "* Lets see an Example from pytorch E-2-E workflow\n",
        "notebook->https://github.com/mrdbourke/pytorch-deep-learning/blob/main/01_pytorch_workflow.ipynb\n",
        "\n"
      ],
      "metadata": {
        "id": "2pkgL9K5uyYU"
      }
    },
    {
      "cell_type": "code",
      "source": [
        "what_were_covering={\n",
        "    1: 'data(prepare and load)',\n",
        "    2: 'build model',\n",
        "    3: 'fitting the model(training)',\n",
        "    4: 'making predictions(inference)',\n",
        "    5: 'saving and loading a model',\n",
        "    6: 'putting all together',\n",
        "}\n",
        "what_were_covering"
      ],
      "metadata": {
        "colab": {
          "base_uri": "https://localhost:8080/"
        },
        "id": "6ers715LwG9E",
        "outputId": "6d3e9cfd-7701-44df-ce30-058a4f03e0b0"
      },
      "execution_count": null,
      "outputs": [
        {
          "output_type": "execute_result",
          "data": {
            "text/plain": [
              "{1: 'data(prepare and load)',\n",
              " 2: 'build model',\n",
              " 3: 'fitting the model(training)',\n",
              " 4: 'making predictions(inference)',\n",
              " 5: 'saving and loading a model',\n",
              " 6: 'putting all together'}"
            ]
          },
          "metadata": {},
          "execution_count": 61
        }
      ]
    },
    {
      "cell_type": "code",
      "source": [
        "import torch\n",
        "from torch import nn\n",
        "import matplotlib.pyplot as plt"
      ],
      "metadata": {
        "id": "DstrYsJGxRgi"
      },
      "execution_count": null,
      "outputs": []
    },
    {
      "cell_type": "markdown",
      "source": [
        " ## Data (preparing and loading)\n",
        " * Excel csv\n",
        " * images\n",
        " * videos\n",
        " * DNA\n",
        " * text\n",
        "\n",
        " ML is a game of two parts:\n",
        " 1. getting a data into numberical representaion\n",
        " 2. build a model a learn patterns from the numbers and predict a value\n",
        "\n",
        " to showcase this,lets create some **known** data using a linear regressin formula\n",
        "\n",
        " we'll use a LR formula to make a straight line with known parameters.\n"
      ],
      "metadata": {
        "id": "2-CrZGkixqoS"
      }
    },
    {
      "cell_type": "code",
      "source": [
        "#create known parameters\n",
        "\n",
        "weight = 0.7\n",
        "bias=0.3\n",
        "\n",
        "#create\n",
        "start =0\n",
        "end=1\n",
        "step=0.02\n",
        "\n",
        "X=torch.arange(start,end,step).unsqueeze(dim=1)\n",
        "y=weight*X+bias\n",
        "\n",
        "\n",
        "X[:10],y[:10]"
      ],
      "metadata": {
        "colab": {
          "base_uri": "https://localhost:8080/"
        },
        "id": "qTeG84xGxw-N",
        "outputId": "b30d0208-7e12-49fc-b3a0-524823d798f8"
      },
      "execution_count": null,
      "outputs": [
        {
          "output_type": "execute_result",
          "data": {
            "text/plain": [
              "(tensor([[0.0000],\n",
              "         [0.0200],\n",
              "         [0.0400],\n",
              "         [0.0600],\n",
              "         [0.0800],\n",
              "         [0.1000],\n",
              "         [0.1200],\n",
              "         [0.1400],\n",
              "         [0.1600],\n",
              "         [0.1800]]),\n",
              " tensor([[0.3000],\n",
              "         [0.3140],\n",
              "         [0.3280],\n",
              "         [0.3420],\n",
              "         [0.3560],\n",
              "         [0.3700],\n",
              "         [0.3840],\n",
              "         [0.3980],\n",
              "         [0.4120],\n",
              "         [0.4260]]))"
            ]
          },
          "metadata": {},
          "execution_count": 63
        }
      ]
    },
    {
      "cell_type": "code",
      "source": [
        "len(X),len(y)"
      ],
      "metadata": {
        "colab": {
          "base_uri": "https://localhost:8080/"
        },
        "id": "woYeVY_tzA2u",
        "outputId": "b0c34440-9901-4c28-8843-2a9e3221a5e6"
      },
      "execution_count": null,
      "outputs": [
        {
          "output_type": "execute_result",
          "data": {
            "text/plain": [
              "(50, 50)"
            ]
          },
          "metadata": {},
          "execution_count": 64
        }
      ]
    },
    {
      "cell_type": "markdown",
      "source": [
        "### Splitting data into training and testing sets(Most Important concept in ML)\n"
      ],
      "metadata": {
        "id": "SMUwHCKDz976"
      }
    },
    {
      "cell_type": "code",
      "source": [
        "#create a train/test set\n",
        "training_split=int(.8*len(X))#we train 80% of dataset to model\n",
        "X_train,y_train=X[:training_split],y[:training_split]\n",
        "X_test,y_test=X[training_split:],y[training_split:]#other 20% of the model is the test split: A test set allows you to measure how well your model generalizes to new, unseen data.\n",
        "\n",
        "len(X_train),len(y_train),len(X_test),len(y_test) #labels,features"
      ],
      "metadata": {
        "colab": {
          "base_uri": "https://localhost:8080/"
        },
        "id": "A8HPVCb70vBD",
        "outputId": "3d656de9-960a-4e41-ee9a-80e32b8ff1d6"
      },
      "execution_count": null,
      "outputs": [
        {
          "output_type": "execute_result",
          "data": {
            "text/plain": [
              "(40, 40, 10, 10)"
            ]
          },
          "metadata": {},
          "execution_count": 65
        }
      ]
    },
    {
      "cell_type": "markdown",
      "source": [
        "how can we visualize our data?\n",
        "\n",
        "\n"
      ],
      "metadata": {
        "id": "lTFlZd5_2EaX"
      }
    },
    {
      "cell_type": "code",
      "source": [
        "def plot_predictions(train_data=X_train,train_labels=y_train,test_data=X_test,test_labels=y_test,predictions=None):\n",
        "  plt.figure(figsize=(10,7))\n",
        "  #plot training data in blue\n",
        "  plt.scatter(train_data,train_labels,c=\"b\",s=4,label=\"training data\")\n",
        "\n",
        "  #plot test data in green\n",
        "  plt.scatter(test_data,test_labels,c=\"g\",s=4,label=\"testing data\")\n",
        "\n",
        "  #Are there predictions?\n",
        "  if predictions is not None:\n",
        "    plt.scatter(test_data,predictions,c='r',s=4,label='predictions')\n",
        "\n",
        "  plt.legend(prop={'size':14})\n"
      ],
      "metadata": {
        "id": "UnxbwU5B3tpn"
      },
      "execution_count": null,
      "outputs": []
    },
    {
      "cell_type": "code",
      "source": [
        "plot_predictions()"
      ],
      "metadata": {
        "colab": {
          "base_uri": "https://localhost:8080/",
          "height": 599
        },
        "id": "A7Eij8J245Xw",
        "outputId": "43b6f2be-1637-4871-ded7-ce8d18ad908a"
      },
      "execution_count": null,
      "outputs": [
        {
          "output_type": "display_data",
          "data": {
            "text/plain": [
              "<Figure size 1000x700 with 1 Axes>"
            ],
            "image/png": "[encoded data removed]"
          },
          "metadata": {}
        }
      ]
    },
    {
      "cell_type": "markdown",
      "source": [
        "## 2. Building our first pytorch model\n",
        "\n",
        "My first pytorch model\n",
        "\n",
        "What model does?\n",
        "* Start with Random values(weight and Bias)\n",
        "* Look at training data amd adjust the random values to better represent the ideal values(the weight and bias values which we used in the data)\n",
        "\n",
        "How does it do?\n",
        "* from two algos:\n",
        "  1. Gradient descent : https://youtu.be/IHZwWFHWa-w?si=kIWj-jCL_cyxcqFo\n",
        "  2. Backpropagation : https://youtu.be/Ilg3gGewQ5U?si=XlzNTf4wmvQdtvhl"
      ],
      "metadata": {
        "id": "74VegkOF6yT7"
      }
    },
    {
      "cell_type": "code",
      "source": [
        "class LinearRegressionModel(nn.Module):#>> everything inherits from nn.Module\n",
        "  def __init__(self):\n",
        "    super().__init__()\n",
        "    self.weights = nn.Parameter(torch.randn(1,requires_grad=True,dtype=torch.float))\n",
        "\n",
        "\n",
        "    self.bias=nn.Parameter(torch.randn(1,requires_grad=True,dtype=torch.float)) # Fixed typo here\n",
        "\n",
        "  def forward(self,x: torch.Tensor)->torch.Tensor: # Corrected indentation and definition\n",
        "    return self.weights*x+self.bias"
      ],
      "metadata": {
        "id": "3U9Q4_DZbGMI"
      },
      "execution_count": null,
      "outputs": []
    },
    {
      "cell_type": "markdown",
      "source": [
        "### PyTorch Essentials\n",
        "* torch.nn - contains all of the buildings for computational graphs( a nn can be considered as a compututaional graph)\n",
        "* torch.nn.parameter - what parameters should our model try and learn , often a pytorch layer from torch.nn will set it for us\n",
        "* torch.nn.Module - the base class for all Neural network modules,if subclassed, I should override forward()-->what task should be iterated\n",
        "* torch,optim - this is where optimizers in pyTorch live,they will help with gradient descent.\n",
        "* def forward()- all nn.Module subclasses are required to override to tell what actually happens"
      ],
      "metadata": {
        "id": "_Z_o7nYPKAmM"
      }
    },
    {
      "cell_type": "markdown",
      "source": [
        "### Checking the contents of our pyTorch Model\n",
        "\n",
        "to see what is inside in the model lets do .parameter"
      ],
      "metadata": {
        "id": "03zgX4KsMAKZ"
      }
    },
    {
      "cell_type": "code",
      "source": [
        "#create a random seed\n",
        "torch.manual_seed(42)\n",
        "#create an instance (object):\n",
        "model_0=LinearRegressionModel()\n",
        "#lets check what are parameters are\n",
        "list(model_0.parameters())"
      ],
      "metadata": {
        "colab": {
          "base_uri": "https://localhost:8080/"
        },
        "id": "vSQ8pHZfNI-O",
        "outputId": "008969d4-dc3d-4701-bb3e-3371ca7dd70e"
      },
      "execution_count": null,
      "outputs": [
        {
          "output_type": "execute_result",
          "data": {
            "text/plain": [
              "[Parameter containing:\n",
              " tensor([0.3367], requires_grad=True),\n",
              " Parameter containing:\n",
              " tensor([0.1288], requires_grad=True)]"
            ]
          },
          "metadata": {},
          "execution_count": 69
        }
      ]
    },
    {
      "cell_type": "code",
      "source": [
        "# list named parameters\n",
        "model_0.state_dict()#-->dictionary of our input parameters"
      ],
      "metadata": {
        "colab": {
          "base_uri": "https://localhost:8080/"
        },
        "id": "4OCqTKwcOXAq",
        "outputId": "415e4c75-37f7-4913-c639-2edc5c6a00c5"
      },
      "execution_count": null,
      "outputs": [
        {
          "output_type": "execute_result",
          "data": {
            "text/plain": [
              "OrderedDict([('weights', tensor([0.3367])), ('bias', tensor([0.1288]))])"
            ]
          },
          "metadata": {},
          "execution_count": 70
        }
      ]
    },
    {
      "cell_type": "code",
      "source": [
        "weight,bias\n"
      ],
      "metadata": {
        "colab": {
          "base_uri": "https://localhost:8080/"
        },
        "id": "jI1hU_0dRMEb",
        "outputId": "b327ae40-2935-455e-ecdf-76c57c37003a"
      },
      "execution_count": null,
      "outputs": [
        {
          "output_type": "execute_result",
          "data": {
            "text/plain": [
              "(0.7, 0.3)"
            ]
          },
          "metadata": {},
          "execution_count": 71
        }
      ]
    },
    {
      "cell_type": "markdown",
      "source": [
        "## Making predictions using torch.inference_mode()\n",
        "to check our model's predictive  power ,we see how well the model predicts our y_test based on X_test"
      ],
      "metadata": {
        "id": "gYImCvS5RRcF"
      }
    },
    {
      "cell_type": "code",
      "source": [
        "X_test\n",
        "y_test"
      ],
      "metadata": {
        "colab": {
          "base_uri": "https://localhost:8080/"
        },
        "id": "FwhiKB-52wj8",
        "outputId": "70e40cd5-d601-40f7-8a21-c2314661ce31"
      },
      "execution_count": null,
      "outputs": [
        {
          "output_type": "execute_result",
          "data": {
            "text/plain": [
              "tensor([[0.8600],\n",
              "        [0.8740],\n",
              "        [0.8880],\n",
              "        [0.9020],\n",
              "        [0.9160],\n",
              "        [0.9300],\n",
              "        [0.9440],\n",
              "        [0.9580],\n",
              "        [0.9720],\n",
              "        [0.9860]])"
            ]
          },
          "metadata": {},
          "execution_count": 72
        }
      ]
    },
    {
      "cell_type": "code",
      "source": [
        "with torch.inference_mode():\n",
        "  y_preds = model_0(X_test)\n",
        "\n",
        "y_preds"
      ],
      "metadata": {
        "colab": {
          "base_uri": "https://localhost:8080/"
        },
        "id": "AcnEl_-N2fX6",
        "outputId": "e55a67ff-a9e9-4bab-8d24-e9934f8735cd"
      },
      "execution_count": null,
      "outputs": [
        {
          "output_type": "execute_result",
          "data": {
            "text/plain": [
              "tensor([[0.3982],\n",
              "        [0.4049],\n",
              "        [0.4116],\n",
              "        [0.4184],\n",
              "        [0.4251],\n",
              "        [0.4318],\n",
              "        [0.4386],\n",
              "        [0.4453],\n",
              "        [0.4520],\n",
              "        [0.4588]])"
            ]
          },
          "metadata": {},
          "execution_count": 73
        }
      ]
    },
    {
      "cell_type": "code",
      "source": [
        "plot_predictions(predictions=y_preds)"
      ],
      "metadata": {
        "colab": {
          "base_uri": "https://localhost:8080/",
          "height": 599
        },
        "id": "3n1eYNus2rCD",
        "outputId": "45debe64-3f75-4a92-9f67-4b48532b84a5"
      },
      "execution_count": null,
      "outputs": [
        {
          "output_type": "display_data",
          "data": {
            "text/plain": [
              "<Figure size 1000x700 with 1 Axes>"
            ],
            "image/png": "[encoded data removed]"
          },
          "metadata": {}
        }
      ]
    },
    {
      "cell_type": "markdown",
      "source": [
        "## Train model\n",
        "\n",
        " The model should be trained to move the random tensor to unknown parameter to known parameters\n",
        "\n",
        " from poor representaion to better representation\n",
        "\n",
        "**TO measure how wrong our model is we need to use loss Function or cost function or criteria**\n",
        "\n",
        "**LOSS FUCTION**:A fuction that measures how wrong is the function from the actual known parameters\n",
        "\n",
        "**OPTIMIZER**:Takes into account the loss of model and adjusts the model's parameters(e.g. weigth & bias) to improve the loss function .\n",
        "\n",
        "in pytorch we need:\n",
        " * a training loop\n",
        " * a testing loop\n",
        "\n",
        "      **in optimzer;**\n",
        "      1. params-->the model parameter we want to optimise\n",
        "      2. lr(learning rate)-->the lr is a hyperparameter defines how big/small the optim changes the parameters(lr proportional to change)"
      ],
      "metadata": {
        "id": "LuNT281w3McF"
      }
    },
    {
      "cell_type": "code",
      "source": [
        "list(model_0.parameters())"
      ],
      "metadata": {
        "colab": {
          "base_uri": "https://localhost:8080/"
        },
        "id": "yJpx7q2D5sRz",
        "outputId": "6c76507b-1eb4-4c19-f36b-07611b9783f0"
      },
      "execution_count": null,
      "outputs": [
        {
          "output_type": "execute_result",
          "data": {
            "text/plain": [
              "[Parameter containing:\n",
              " tensor([0.3367], requires_grad=True),\n",
              " Parameter containing:\n",
              " tensor([0.1288], requires_grad=True)]"
            ]
          },
          "metadata": {},
          "execution_count": 75
        }
      ]
    },
    {
      "cell_type": "code",
      "source": [
        "# our parameters of model _--> the value that the model sets itself\n",
        "model_0.state_dict()\n"
      ],
      "metadata": {
        "colab": {
          "base_uri": "https://localhost:8080/"
        },
        "id": "w8vcfgRc6r2y",
        "outputId": "ff37d8ca-1d4c-425d-a7c6-0faf02f0e7a9"
      },
      "execution_count": null,
      "outputs": [
        {
          "output_type": "execute_result",
          "data": {
            "text/plain": [
              "OrderedDict([('weights', tensor([0.3367])), ('bias', tensor([0.1288]))])"
            ]
          },
          "metadata": {},
          "execution_count": 76
        }
      ]
    },
    {
      "cell_type": "code",
      "source": [
        "from torch import nn\n",
        "# Setup a loss function\n",
        "loss_fn=nn.L1Loss()\n",
        "loss_fn\n",
        "# Setting up an optimizer(Stochastic gradient descent)\n",
        "optimizer = torch.optim.SGD(params=model_0.parameters(),lr=0.01)#lr-->learning right\n"
      ],
      "metadata": {
        "id": "0CsG6gRj7Me6"
      },
      "execution_count": null,
      "outputs": []
    },
    {
      "cell_type": "markdown",
      "source": [
        "### Building a training loop (And a testing loop) in pyTorch\n",
        "\n",
        "In training loop:\n",
        "0. Loop through data\n",
        "1. forward pass(involves data moving through our model's 'forward()' fuctions)to make predictions on data -->called forward propagation\n",
        "2. Calculate the loss(compare forward pass predictions to ground truth labels)\n",
        "3. optimizer zero grad\n",
        "4. loss backward - move backwardss throgh the network to calculate the gradients of each of parameters of loss(**backpropagation**)\n",
        "5. optimizer step - use the optimzer to adjust our model's parameters to try and improve the loss(**gradient descent**)\n"
      ],
      "metadata": {
        "id": "eJ1U_Q1azVv9"
      }
    },
    {
      "cell_type": "code",
      "source": [
        "model_0.state_dict()"
      ],
      "metadata": {
        "colab": {
          "base_uri": "https://localhost:8080/"
        },
        "id": "hQV16rg9ZP9A",
        "outputId": "2fc1b5a9-684d-4fc8-fdd3-b58069a41f37"
      },
      "execution_count": null,
      "outputs": [
        {
          "output_type": "execute_result",
          "data": {
            "text/plain": [
              "OrderedDict([('weights', tensor([0.3367])), ('bias', tensor([0.1288]))])"
            ]
          },
          "metadata": {},
          "execution_count": 78
        }
      ]
    },
    {
      "cell_type": "code",
      "source": [
        "torch.manual_seed(42)\n",
        "# an epoch is one loop through data(hyperparameter-->set by the coder)\n",
        "epochs = 100\n",
        "\n",
        "#to track\n",
        "epoch_count=[]\n",
        "loss_vals=[]\n",
        "test_loss_vals=[]\n",
        "\n",
        "### Training\n",
        "# step - 0 -->loop throgh dara\n",
        "for epoch in range(epochs):\n",
        "  # setting the model to training mode\n",
        "  model_0.train()#-->sets all parameters that require gradient to require gradient\n",
        "  model_0.eval()\n",
        "\n",
        "  #1. forward pass\n",
        "  y_pred=model_0(X_train)\n",
        "\n",
        "  #2. Calculate the loss\n",
        "  loss = loss_fn(y_pred,y_train)#(input,target)\n",
        "  print(f'Loss{loss}')\n",
        "  #3. optimiser zero grad\n",
        "  optimizer.zero_grad()\n",
        "\n",
        "  #4. perform backpropagation on the loss wrt to parameter of the model\n",
        "  loss.backward()#Any default how the optimzier cahnges will accumulate through the loop.. so we have to zero everytimr\n",
        "\n",
        "  #. step the optimizier (perform gradient descent)\n",
        "  optimizer.step()\n",
        "\n",
        "\n",
        "  ###Testing\n",
        "  model_0.eval()# turns off the diff settings which arent neccesarry for evaluation(drop/batchnorm layers)\n",
        "  with torch.inference_mode():\n",
        "    #1. do forward pass\n",
        "    test_pred=model_0(X_test)\n",
        "\n",
        "    #2. Calculate the loss\n",
        "    test_loss=loss_fn(test_pred,y_test)\n",
        "\n",
        "  #3. Print whts happening:\n",
        "  if epoch%10==0:\n",
        "    epoch_count.append(epoch)\n",
        "    loss_vals.append(loss)\n",
        "    test_loss_vals.append(test_loss)\n",
        "    print(f\"epoch:{epoch}| loss:{loss} | Test Loss: {test_loss}\")\n",
        "\n",
        "    print(model_0.state_dict())\n",
        "    print()"
      ],
      "metadata": {
        "colab": {
          "base_uri": "https://localhost:8080/"
        },
        "id": "zKibGb2MYwjX",
        "outputId": "116fb70e-703f-4e65-f263-b6edb3667368",
        "collapsed": true
      },
      "execution_count": null,
      "outputs": [
        {
          "output_type": "stream",
          "name": "stdout",
          "text": [
            "Loss0.31288138031959534\n",
            "epoch:0| loss:0.31288138031959534 | Test Loss: 0.48106518387794495\n",
            "OrderedDict([('weights', tensor([0.3406])), ('bias', tensor([0.1388]))])\n",
            "\n",
            "Loss0.3013603389263153\n",
            "Loss0.28983935713768005\n",
            "Loss0.2783183455467224\n",
            "Loss0.26679736375808716\n",
            "Loss0.2552763521671295\n",
            "Loss0.24375534057617188\n",
            "Loss0.23223432898521423\n",
            "Loss0.22071333229541779\n",
            "Loss0.20919232070446014\n",
            "Loss0.1976713240146637\n",
            "epoch:10| loss:0.1976713240146637 | Test Loss: 0.3463551998138428\n",
            "OrderedDict([('weights', tensor([0.3796])), ('bias', tensor([0.2388]))])\n",
            "\n",
            "Loss0.18615034222602844\n",
            "Loss0.1746293306350708\n",
            "Loss0.16310831904411316\n",
            "Loss0.1515873372554779\n",
            "Loss0.14006635546684265\n",
            "Loss0.1285453587770462\n",
            "Loss0.11702437698841095\n",
            "Loss0.1060912236571312\n",
            "Loss0.09681284427642822\n",
            "Loss0.08908725529909134\n",
            "epoch:20| loss:0.08908725529909134 | Test Loss: 0.21729660034179688\n",
            "OrderedDict([('weights', tensor([0.4184])), ('bias', tensor([0.3333]))])\n",
            "\n",
            "Loss0.08227583020925522\n",
            "Loss0.07638873159885406\n",
            "Loss0.07160007208585739\n",
            "Loss0.06747635453939438\n",
            "Loss0.06395438313484192\n",
            "Loss0.06097004935145378\n",
            "Loss0.05845819041132927\n",
            "Loss0.05635259300470352\n",
            "Loss0.0545857772231102\n",
            "Loss0.053148526698350906\n",
            "epoch:30| loss:0.053148526698350906 | Test Loss: 0.14464017748832703\n",
            "OrderedDict([('weights', tensor([0.4512])), ('bias', tensor([0.3768]))])\n",
            "\n",
            "Loss0.05181945487856865\n",
            "Loss0.05069301277399063\n",
            "Loss0.0498228520154953\n",
            "Loss0.04895269125699997\n",
            "Loss0.04819351062178612\n",
            "Loss0.047531817108392715\n",
            "Loss0.04692792519927025\n",
            "Loss0.04642331600189209\n",
            "Loss0.04591871052980423\n",
            "Loss0.04543796554207802\n",
            "epoch:40| loss:0.04543796554207802 | Test Loss: 0.11360953003168106\n",
            "OrderedDict([('weights', tensor([0.4748])), ('bias', tensor([0.3868]))])\n",
            "\n",
            "Loss0.04503796249628067\n",
            "Loss0.04463795945048332\n",
            "Loss0.04423796385526657\n",
            "Loss0.04383796453475952\n",
            "Loss0.04343796148896217\n",
            "Loss0.043074630200862885\n",
            "Loss0.04272563382983208\n",
            "Loss0.04237663000822067\n",
            "Loss0.04202762991189957\n",
            "Loss0.04167863354086876\n",
            "epoch:50| loss:0.04167863354086876 | Test Loss: 0.09919948130846024\n",
            "OrderedDict([('weights', tensor([0.4938])), ('bias', tensor([0.3843]))])\n",
            "\n",
            "Loss0.04132963344454765\n",
            "Loss0.04098063334822655\n",
            "Loss0.04063162952661514\n",
            "Loss0.040282636880874634\n",
            "Loss0.039933640509843826\n",
            "Loss0.03958464413881302\n",
            "Loss0.03923564404249191\n",
            "Loss0.03888664394617081\n",
            "Loss0.0385376438498497\n",
            "Loss0.03818932920694351\n",
            "epoch:60| loss:0.03818932920694351 | Test Loss: 0.08886633068323135\n",
            "OrderedDict([('weights', tensor([0.5116])), ('bias', tensor([0.3788]))])\n",
            "\n",
            "Loss0.03785243630409241\n",
            "Loss0.0375034399330616\n",
            "Loss0.037164121866226196\n",
            "Loss0.03681822493672371\n",
            "Loss0.03647511452436447\n",
            "Loss0.03613303601741791\n",
            "Loss0.03578609973192215\n",
            "Loss0.03544783592224121\n",
            "Loss0.035098835825920105\n",
            "Loss0.03476089984178543\n",
            "epoch:70| loss:0.03476089984178543 | Test Loss: 0.0805937647819519\n",
            "OrderedDict([('weights', tensor([0.5288])), ('bias', tensor([0.3718]))])\n",
            "\n",
            "Loss0.03441363573074341\n",
            "Loss0.03407188132405281\n",
            "Loss0.03372843936085701\n",
            "Loss0.03338287025690079\n",
            "Loss0.033043231815099716\n",
            "Loss0.03269423171877861\n",
            "Loss0.032357655465602875\n",
            "Loss0.03200903534889221\n",
            "Loss0.03166864812374115\n",
            "Loss0.03132382780313492\n",
            "epoch:80| loss:0.03132382780313492 | Test Loss: 0.07232122868299484\n",
            "OrderedDict([('weights', tensor([0.5459])), ('bias', tensor([0.3648]))])\n",
            "\n",
            "Loss0.030979642644524574\n",
            "Loss0.030638623982667923\n",
            "Loss0.0302906334400177\n",
            "Loss0.029953425750136375\n",
            "Loss0.02960442565381527\n",
            "Loss0.029265418648719788\n",
            "Loss0.028919223695993423\n",
            "Loss0.028576409444212914\n",
            "Loss0.028234025463461876\n",
            "Loss0.02788739837706089\n",
            "epoch:90| loss:0.02788739837706089 | Test Loss: 0.06473556160926819\n",
            "OrderedDict([('weights', tensor([0.5629])), ('bias', tensor([0.3573]))])\n",
            "\n",
            "Loss0.02754882536828518\n",
            "Loss0.027199819684028625\n",
            "Loss0.026862185448408127\n",
            "Loss0.02651461586356163\n",
            "Loss0.026173178106546402\n",
            "Loss0.025829419493675232\n",
            "Loss0.02548416517674923\n",
            "Loss0.025144213810563087\n",
            "Loss0.02479521557688713\n"
          ]
        }
      ]
    },
    {
      "cell_type": "code",
      "source": [
        "model_0.state_dict()"
      ],
      "metadata": {
        "colab": {
          "base_uri": "https://localhost:8080/"
        },
        "id": "mYWjYYHJZ8N4",
        "outputId": "a2c53534-3d63-4c79-f573-6a02f8be6348"
      },
      "execution_count": null,
      "outputs": [
        {
          "output_type": "execute_result",
          "data": {
            "text/plain": [
              "OrderedDict([('weights', tensor([0.5784])), ('bias', tensor([0.3513]))])"
            ]
          },
          "metadata": {},
          "execution_count": 80
        }
      ]
    },
    {
      "cell_type": "code",
      "source": [
        "# to plot the loss curve we convert our tensor (loss_vals,Test_loss_vals) into arrays by numpy\n",
        "import numpy as np\n",
        "loss_arr=np.array(torch.tensor(loss_vals).numpy())\n",
        "test_loss_vals,loss_arr\n",
        "# test_loss_arr=np.array(torch.tensor(test_loss_vals).numpy())\n"
      ],
      "metadata": {
        "colab": {
          "base_uri": "https://localhost:8080/"
        },
        "id": "wxiCJPR4ZHoU",
        "outputId": "1b11c04a-cf1a-4744-a6d7-57c3b6214194"
      },
      "execution_count": null,
      "outputs": [
        {
          "output_type": "execute_result",
          "data": {
            "text/plain": [
              "([tensor(0.4811),\n",
              "  tensor(0.3464),\n",
              "  tensor(0.2173),\n",
              "  tensor(0.1446),\n",
              "  tensor(0.1136),\n",
              "  tensor(0.0992),\n",
              "  tensor(0.0889),\n",
              "  tensor(0.0806),\n",
              "  tensor(0.0723),\n",
              "  tensor(0.0647)],\n",
              " array([0.31288138, 0.19767132, 0.08908726, 0.05314853, 0.04543797,\n",
              "        0.04167863, 0.03818933, 0.0347609 , 0.03132383, 0.0278874 ],\n",
              "       dtype=float32))"
            ]
          },
          "metadata": {},
          "execution_count": 81
        }
      ]
    },
    {
      "cell_type": "code",
      "source": [
        "#Plot loss curve\n",
        "\n",
        "plt.plot(epoch_count,np.array(torch.tensor(loss_vals).numpy()),label=\"Train loss\")\n",
        "plt.plot(epoch_count,test_loss_vals,label=\"Test loss\")\n",
        "plt.title(\"Training and testing loss curves\")\n",
        "plt.ylabel(\"Loss\")\n",
        "plt.xlabel(\"Epoch\")\n",
        "plt.legend();"
      ],
      "metadata": {
        "colab": {
          "base_uri": "https://localhost:8080/",
          "height": 472
        },
        "id": "rSukZcLaVUp1",
        "outputId": "bda7c6f4-35f8-4c9f-b42e-ed89e333cc76"
      },
      "execution_count": null,
      "outputs": [
        {
          "output_type": "display_data",
          "data": {
            "text/plain": [
              "<Figure size 640x480 with 1 Axes>"
            ],
            "image/png": "[encoded data removed]"
          },
          "metadata": {}
        }
      ]
    },
    {
      "cell_type": "code",
      "source": [
        "with torch.inference_mode():\n",
        "  y_preds_new=model_0(X_test)#doin predictions"
      ],
      "metadata": {
        "id": "ay-3OSkiMYwW"
      },
      "execution_count": null,
      "outputs": []
    },
    {
      "cell_type": "code",
      "source": [
        "weight,bias\n"
      ],
      "metadata": {
        "colab": {
          "base_uri": "https://localhost:8080/"
        },
        "id": "u2DCdkKAK0bc",
        "outputId": "74ef24fd-d759-4058-a973-eac74d960b70"
      },
      "execution_count": null,
      "outputs": [
        {
          "output_type": "execute_result",
          "data": {
            "text/plain": [
              "(0.7, 0.3)"
            ]
          },
          "metadata": {},
          "execution_count": 84
        }
      ]
    },
    {
      "cell_type": "code",
      "source": [
        "plot_predictions(predictions=y_preds_new)"
      ],
      "metadata": {
        "colab": {
          "base_uri": "https://localhost:8080/",
          "height": 599
        },
        "id": "pipKH3lHLPao",
        "outputId": "eb50b62f-69e9-488c-cafb-8869f3bde843"
      },
      "execution_count": null,
      "outputs": [
        {
          "output_type": "display_data",
          "data": {
            "text/plain": [
              "<Figure size 1000x700 with 1 Axes>"
            ],
            "image/png": "[encoded data removed]"
          },
          "metadata": {}
        }
      ]
    },
    {
      "cell_type": "markdown",
      "source": [
        "## Saving the model in Pytorch\n",
        "\n",
        "saving loading models in pytorch has 3 imp methods\n",
        "the model is like a class now each object might predict different scenarios\n",
        "so we save and load diferent instances of our model\n",
        "1. torch.save()-->saves a pytorch object in python's Pickle format\n",
        "2. torch.load()-->it deserialises by unpickling the object\n",
        "3. torch.nn.module.load_state_dict()-->loads our model's saved module ie that state_dict\n",
        "\n"
      ],
      "metadata": {
        "id": "dMKcCxXaMnG1"
      }
    },
    {
      "cell_type": "code",
      "source": [
        "#saving our pytorch model\n",
        "from pathlib import Path\n",
        "\n",
        "#1. Create models directory\n",
        "MODEL_PATH = Path(\"models\")\n",
        "MODEL_PATH.mkdir(parents=True,exist_ok=True)#==>create a directory just for our model\n",
        "\n",
        "#2.Create model's path\n",
        "MODEL_NAME=\"Pytorch_Workflow_model_0_path.pth\"\n",
        "MODEL_SAVE_PATH=MODEL_PATH/MODEL_NAME\n",
        "\n",
        "#3. save and load model's state_dict\n",
        "print(f'Saving model to:{MODEL_SAVE_PATH}')\n",
        "torch.save(obj=model_0.state_dict(),f=MODEL_SAVE_PATH)"
      ],
      "metadata": {
        "colab": {
          "base_uri": "https://localhost:8080/"
        },
        "id": "4ucVhQmgCWxD",
        "outputId": "d2e3e7e6-507c-47ee-e0d1-4e13dd74fe7a"
      },
      "execution_count": null,
      "outputs": [
        {
          "output_type": "stream",
          "name": "stdout",
          "text": [
            "Saving model to:models/Pytorch_Workflow_model_0_path.pth\n"
          ]
        }
      ]
    },
    {
      "cell_type": "markdown",
      "source": [
        "##Loading a pytorch Model\n"
      ],
      "metadata": {
        "id": "nan1JtzwEhc5"
      }
    },
    {
      "cell_type": "code",
      "source": [
        "#New instance of the class LRM\n",
        "loaded_model_0=LinearRegressionModel()\n",
        "\n",
        "#Load the saved state_dict of model_0\n",
        "loaded_model_0.load_state_dict(torch.load(MODEL_SAVE_PATH))"
      ],
      "metadata": {
        "colab": {
          "base_uri": "https://localhost:8080/"
        },
        "id": "KhIpdKP6EATp",
        "outputId": "b02e53f5-de5a-44dd-f8ff-833ab32c327d"
      },
      "execution_count": null,
      "outputs": [
        {
          "output_type": "stream",
          "name": "stderr",
          "text": [
            "<ipython-input-87-797d07fbd568>:5: FutureWarning: You are using `torch.load` with `weights_only=False` (the current default value), which uses the default pickle module implicitly. It is possible to construct malicious pickle data which will execute arbitrary code during unpickling (See https://github.com/pytorch/pytorch/blob/main/SECURITY.md#untrusted-models for more details). In a future release, the default value for `weights_only` will be flipped to `True`. This limits the functions that could be executed during unpickling. Arbitrary objects will no longer be allowed to be loaded via this mode unless they are explicitly allowlisted by the user via `torch.serialization.add_safe_globals`. We recommend you start setting `weights_only=True` for any use case where you don't have full control of the loaded file. Please open an issue on GitHub for any issues related to this experimental feature.\n",
            "  loaded_model_0.load_state_dict(torch.load(MODEL_SAVE_PATH))\n"
          ]
        },
        {
          "output_type": "execute_result",
          "data": {
            "text/plain": [
              "<All keys matched successfully>"
            ]
          },
          "metadata": {},
          "execution_count": 87
        }
      ]
    },
    {
      "cell_type": "code",
      "source": [
        "loaded_model_0.state_dict()"
      ],
      "metadata": {
        "colab": {
          "base_uri": "https://localhost:8080/"
        },
        "id": "p4tADHb7FGQM",
        "outputId": "64de159d-59f1-4e22-f069-8bc137192515"
      },
      "execution_count": null,
      "outputs": [
        {
          "output_type": "execute_result",
          "data": {
            "text/plain": [
              "OrderedDict([('weights', tensor([0.5784])), ('bias', tensor([0.3513]))])"
            ]
          },
          "metadata": {},
          "execution_count": 88
        }
      ]
    },
    {
      "cell_type": "code",
      "source": [
        "#making preds with the loaded model\n",
        "loaded_model_0.eval()\n",
        "with torch.inference_mode():\n",
        "  loaded_model_preds=loaded_model_0(X_test)\n",
        "loaded_model_preds"
      ],
      "metadata": {
        "id": "wGESpwPCF0IK",
        "colab": {
          "base_uri": "https://localhost:8080/"
        },
        "outputId": "fe57df85-d49d-4ae4-f2d5-094a4d71a5b4"
      },
      "execution_count": null,
      "outputs": [
        {
          "output_type": "execute_result",
          "data": {
            "text/plain": [
              "tensor([[0.8141],\n",
              "        [0.8256],\n",
              "        [0.8372],\n",
              "        [0.8488],\n",
              "        [0.8603],\n",
              "        [0.8719],\n",
              "        [0.8835],\n",
              "        [0.8950],\n",
              "        [0.9066],\n",
              "        [0.9182]])"
            ]
          },
          "metadata": {},
          "execution_count": 89
        }
      ]
    },
    {
      "cell_type": "code",
      "source": [
        "#make some preds\n",
        "model_0.eval\n",
        "with torch.inference_mode():\n",
        "  model_0_preds=model_0(X_test)\n",
        "model_0_preds"
      ],
      "metadata": {
        "colab": {
          "base_uri": "https://localhost:8080/"
        },
        "id": "7HN7jERWEl9K",
        "outputId": "7ecc524f-8ac2-4ae3-97ac-2d7c913ec6ba"
      },
      "execution_count": null,
      "outputs": [
        {
          "output_type": "execute_result",
          "data": {
            "text/plain": [
              "tensor([[0.8141],\n",
              "        [0.8256],\n",
              "        [0.8372],\n",
              "        [0.8488],\n",
              "        [0.8603],\n",
              "        [0.8719],\n",
              "        [0.8835],\n",
              "        [0.8950],\n",
              "        [0.9066],\n",
              "        [0.9182]])"
            ]
          },
          "metadata": {},
          "execution_count": 90
        }
      ]
    },
    {
      "cell_type": "code",
      "source": [
        "model_0_preds==loaded_model_preds"
      ],
      "metadata": {
        "colab": {
          "base_uri": "https://localhost:8080/"
        },
        "id": "snuULjQXEgrl",
        "outputId": "c50818bf-c672-4d95-ff1f-dd901767e30e"
      },
      "execution_count": null,
      "outputs": [
        {
          "output_type": "execute_result",
          "data": {
            "text/plain": [
              "tensor([[True],\n",
              "        [True],\n",
              "        [True],\n",
              "        [True],\n",
              "        [True],\n",
              "        [True],\n",
              "        [True],\n",
              "        [True],\n",
              "        [True],\n",
              "        [True]])"
            ]
          },
          "metadata": {},
          "execution_count": 91
        }
      ]
    },
    {
      "cell_type": "markdown",
      "source": [
        "##6.Putting all together\n",
        "\n",
        "all in one\n"
      ],
      "metadata": {
        "id": "4nnlyB8pE86I"
      }
    },
    {
      "cell_type": "code",
      "source": [
        "#import pytorch and other essentials\n",
        "import torch\n",
        "from torch import nn\n",
        "import matplotlib.pyplot as plt\n",
        "import numpy as np\n",
        "import pandas as pd"
      ],
      "metadata": {
        "id": "cfKS3WhPFY-O"
      },
      "execution_count": null,
      "outputs": []
    },
    {
      "cell_type": "markdown",
      "source": [
        "Creating device agnostic code\n",
        "\n",
        "we can access gpu if available\n",
        "else:CPU"
      ],
      "metadata": {
        "id": "GOhiLJK8GdoJ"
      }
    },
    {
      "cell_type": "code",
      "source": [
        "#DAC\n",
        "device=\"cuda\" if torch.cuda.is_available() else \"cpu\"\n",
        "print(f'device being used:{device}')\n"
      ],
      "metadata": {
        "colab": {
          "base_uri": "https://localhost:8080/"
        },
        "id": "AcLrJGXuIXWt",
        "outputId": "827b58a4-4d01-446a-d61b-a7b0e79eb45e"
      },
      "execution_count": null,
      "outputs": [
        {
          "output_type": "stream",
          "name": "stdout",
          "text": [
            "device being used:cuda\n"
          ]
        }
      ]
    },
    {
      "cell_type": "markdown",
      "source": [
        "\n",
        "\n",
        "\n",
        "###DATA\n",
        "* we collect data and covert them into tensors\n",
        "* then split 80%data to train and 20% to test"
      ],
      "metadata": {
        "id": "S1BVcxjHGNfe"
      }
    },
    {
      "cell_type": "code",
      "source": [
        "#create data using linear reg formula:y=a+bX\n",
        "#now here our x is independent & weight is b and a is bias\n",
        "#Let us imagine predicting the weight when height is given\n",
        "height=0.25\n",
        "bias=45.2\n",
        "\n",
        "#giving our values of heights\n",
        "\n",
        "X=torch.arange(145,215).unsqueeze(dim=1)\n",
        "\n",
        "y=height*X+bias\n",
        "  #-->now its ready the LR\n",
        "X[:10],y[:10]"
      ],
      "metadata": {
        "id": "s8-Sb2jPI6eA",
        "colab": {
          "base_uri": "https://localhost:8080/"
        },
        "outputId": "e66bc701-3d97-4505-cdae-8ba37cc838f9"
      },
      "execution_count": null,
      "outputs": [
        {
          "output_type": "execute_result",
          "data": {
            "text/plain": [
              "(tensor([[145],\n",
              "         [146],\n",
              "         [147],\n",
              "         [148],\n",
              "         [149],\n",
              "         [150],\n",
              "         [151],\n",
              "         [152],\n",
              "         [153],\n",
              "         [154]]),\n",
              " tensor([[81.4500],\n",
              "         [81.7000],\n",
              "         [81.9500],\n",
              "         [82.2000],\n",
              "         [82.4500],\n",
              "         [82.7000],\n",
              "         [82.9500],\n",
              "         [83.2000],\n",
              "         [83.4500],\n",
              "         [83.7000]]))"
            ]
          },
          "metadata": {},
          "execution_count": 94
        }
      ]
    },
    {
      "cell_type": "code",
      "source": [
        "len(X)\n",
        "len(y)"
      ],
      "metadata": {
        "colab": {
          "base_uri": "https://localhost:8080/"
        },
        "id": "ue3QyDjUNaGS",
        "outputId": "3e87a957-6def-4d42-89a4-bbe79868e5f9"
      },
      "execution_count": null,
      "outputs": [
        {
          "output_type": "execute_result",
          "data": {
            "text/plain": [
              "70"
            ]
          },
          "metadata": {},
          "execution_count": 95
        }
      ]
    },
    {
      "cell_type": "markdown",
      "source": [
        "\n",
        "\n",
        "###SPLITING"
      ],
      "metadata": {
        "id": "Jti3zJvZNbJf"
      }
    },
    {
      "cell_type": "code",
      "source": [
        "training_split=int(len(X)*0.8)\n",
        "X_train=X[:training_split]\n",
        "y_train=y[:training_split]\n",
        "X_test,y_test=X[training_split:],y[training_split:]"
      ],
      "metadata": {
        "id": "fqVGASZSOd_l"
      },
      "execution_count": null,
      "outputs": []
    },
    {
      "cell_type": "code",
      "source": [
        "len(X_train),len(y_train),len(X_test)"
      ],
      "metadata": {
        "colab": {
          "base_uri": "https://localhost:8080/"
        },
        "id": "gyoeqLyXOlbx",
        "outputId": "c00ea47c-3646-4a6b-d6b8-f25836d2f78e"
      },
      "execution_count": null,
      "outputs": [
        {
          "output_type": "execute_result",
          "data": {
            "text/plain": [
              "(56, 56, 14)"
            ]
          },
          "metadata": {},
          "execution_count": 97
        }
      ]
    },
    {
      "cell_type": "markdown",
      "source": [
        "###VISUALIZE"
      ],
      "metadata": {
        "id": "IXHE_HyxOoAY"
      }
    },
    {
      "cell_type": "code",
      "source": [
        "#we visualize our regression to have a look over our data"
      ],
      "metadata": {
        "id": "8k2pgIEf4q00"
      },
      "execution_count": null,
      "outputs": []
    },
    {
      "cell_type": "code",
      "source": [
        "plot_predictions(X_train,y_train,X_test,y_test);"
      ],
      "metadata": {
        "id": "xeaC2JZo49QF",
        "colab": {
          "base_uri": "https://localhost:8080/",
          "height": 599
        },
        "outputId": "d66429f4-23af-4df8-d1c2-3e41d875cca2"
      },
      "execution_count": null,
      "outputs": [
        {
          "output_type": "display_data",
          "data": {
            "text/plain": [
              "<Figure size 1000x700 with 1 Axes>"
            ],
            "image/png": "[encoded data removed]"
          },
          "metadata": {}
        }
      ]
    },
    {
      "cell_type": "markdown",
      "source": [
        "###MODEL\n",
        "\n",
        "Actually we can use inbuilt different layers for our purposes instead of writing on our own"
      ],
      "metadata": {
        "id": "WCyFKbw_QLLo"
      }
    },
    {
      "cell_type": "code",
      "source": [
        "from torch import nn\n",
        "class LinearRegressionModel(nn.Module):#>> everything inherits from nn.Module\n",
        "  def __init__(self):\n",
        "    super().__init__()\n",
        "    self.weights = nn.Parameter(torch.randn(1,requires_grad=True,dtype=torch.float))\n",
        "\n",
        "\n",
        "    self.bias=nn.Parameter(torch.randn(1,requires_grad=True,dtype=torch.float)) # Fixed typo here\n",
        "\n",
        "  def forward(self,x: torch.Tensor)->torch.Tensor: # Corrected indentation and definition\n",
        "    return self.weights*x+self.bias"
      ],
      "metadata": {
        "id": "yI17BhIclQX2"
      },
      "execution_count": null,
      "outputs": []
    },
    {
      "cell_type": "code",
      "source": [
        "from torch import nn\n",
        "#create a Linear modeule by inheriting nn.Modeule\n",
        "class LinearRegressionModelv2(nn.Module):\n",
        "  def __init__(self):\n",
        "    super().__init__()\n",
        "    #use nn.Linear() for creating the parameter automatically\n",
        "    self.linear_layer = nn.Linear(in_features=1,out_features=1)#in_feature =1=out_feature this is cause the for every one value of X there is one value of y\n",
        "  def forward(self,x: torch.tensor)->torch.Tensor:\n",
        "    return self.linear_layer(x)\n",
        "\n",
        "torch.manual_seed(42)\n",
        "model_1=LinearRegressionModelv2()\n",
        "model_1,model_1.state_dict()\n"
      ],
      "metadata": {
        "colab": {
          "base_uri": "https://localhost:8080/"
        },
        "id": "QX95gt0jQbYe",
        "outputId": "94483732-6c30-4b98-9666-365d253ca51e"
      },
      "execution_count": null,
      "outputs": [
        {
          "output_type": "execute_result",
          "data": {
            "text/plain": [
              "(LinearRegressionModelv2(\n",
              "   (linear_layer): Linear(in_features=1, out_features=1, bias=True)\n",
              " ),\n",
              " OrderedDict([('linear_layer.weight', tensor([[0.7645]])),\n",
              "              ('linear_layer.bias', tensor([0.8300]))]))"
            ]
          },
          "metadata": {},
          "execution_count": 101
        }
      ]
    },
    {
      "cell_type": "code",
      "source": [
        "#before training we can use the gpu if it is avilable\n",
        "next(model_1.parameters()).device#next(model.parameters()): This returns the next parameter in the iterator, which is the first parameter in the model. Note that next() is used to get the first element of the iterator, not to iterate over all parameters."
      ],
      "metadata": {
        "colab": {
          "base_uri": "https://localhost:8080/"
        },
        "id": "k80ELz6EmGLL",
        "outputId": "e9de4b9d-45d4-44ab-c5a0-f0ba9e118273"
      },
      "execution_count": null,
      "outputs": [
        {
          "output_type": "execute_result",
          "data": {
            "text/plain": [
              "device(type='cpu')"
            ]
          },
          "metadata": {},
          "execution_count": 102
        }
      ]
    },
    {
      "cell_type": "code",
      "source": [
        "model_1.to(device)\n",
        "next(model_1.parameters()).device"
      ],
      "metadata": {
        "colab": {
          "base_uri": "https://localhost:8080/"
        },
        "id": "4YBbJ2__mHrv",
        "outputId": "e03c62c8-2b9e-4064-864d-6852cba827fe"
      },
      "execution_count": null,
      "outputs": [
        {
          "output_type": "execute_result",
          "data": {
            "text/plain": [
              "device(type='cuda', index=0)"
            ]
          },
          "metadata": {},
          "execution_count": 103
        }
      ]
    },
    {
      "cell_type": "markdown",
      "source": [
        "### TRAIN\n",
        "The training loop must contain:\n",
        "* Loss function\n",
        "* Optimizer\n",
        "* Training loop\n",
        "* testing loop"
      ],
      "metadata": {
        "id": "UKaEO6vGSPYr"
      }
    },
    {
      "cell_type": "code",
      "source": [
        "#setting up loss function\n",
        "loss_fn=nn.L1Loss()\n",
        "#setting up optimizer\n",
        "optimizer=torch.optim.SGD(params=model_1.parameters(),lr=0.1)\n",
        "\n"
      ],
      "metadata": {
        "id": "zPAynv3DUAKe"
      },
      "execution_count": null,
      "outputs": []
    },
    {
      "cell_type": "code",
      "source": [
        "#training loop()\n",
        "torch.manual_seed(42)\n",
        "\n",
        "epochs = 20\n",
        "\n",
        "X_train=X_train.to(device)\n",
        "X_test=X_test.to(device)\n",
        "y_train=y_train.to(device)\n",
        "y_test=y_test.to(device)\n",
        "\n",
        "\n",
        "for epoch in range(epochs):\n",
        "  model_1.train()\n",
        "  #1.forward pass\n",
        "  y_pred = model_1(X_train)\n",
        "  #2. loss function\n",
        "  loss = loss_fn(y_pred, y_train)\n",
        "  #3. zero-grad the optimiser\n",
        "  optimizer.zero_grad()\n",
        "  #4.backpropagation\n",
        "  loss.backward()\n",
        "  #5.Optimiser step\n",
        "  optimizer.step()\n",
        "\n",
        "  ###Testing\n",
        "  if epoch%10==0:\n",
        "    model_1.eval()\n",
        "\n",
        "    with torch.inference_mode():\n",
        "        test_pred = model_1(X_test)\n",
        "        test_loss = loss_fn(test_pred, y_test)\n",
        "        print(f'epoch:{epoch}| loss:{loss} | Test Loss: {test_loss}')"
      ],
      "metadata": {
        "id": "oqFfE5kIitU1",
        "colab": {
          "base_uri": "https://localhost:8080/",
          "height": 371
        },
        "outputId": "1107713e-fb31-430c-89a6-803cd36d20e9"
      },
      "execution_count": null,
      "outputs": [
        {
          "output_type": "error",
          "ename": "RuntimeError",
          "evalue": "mat1 and mat2 must have the same dtype, but got Long and Float",
          "traceback": [
            "\u001b[0;31m---------------------------------------------------------------------------\u001b[0m",
            "\u001b[0;31mRuntimeError\u001b[0m                              Traceback (most recent call last)",
            "\u001b[0;32m<ipython-input-105-9fcfc1845d3d>\u001b[0m in \u001b[0;36m<cell line: 12>\u001b[0;34m()\u001b[0m\n\u001b[1;32m     13\u001b[0m   \u001b[0mmodel_1\u001b[0m\u001b[0;34m.\u001b[0m\u001b[0mtrain\u001b[0m\u001b[0;34m(\u001b[0m\u001b[0;34m)\u001b[0m\u001b[0;34m\u001b[0m\u001b[0;34m\u001b[0m\u001b[0m\n\u001b[1;32m     14\u001b[0m   \u001b[0;31m#1.forward pass\u001b[0m\u001b[0;34m\u001b[0m\u001b[0;34m\u001b[0m\u001b[0m\n\u001b[0;32m---> 15\u001b[0;31m   \u001b[0my_pred\u001b[0m \u001b[0;34m=\u001b[0m \u001b[0mmodel_1\u001b[0m\u001b[0;34m(\u001b[0m\u001b[0mX_train\u001b[0m\u001b[0;34m)\u001b[0m\u001b[0;34m\u001b[0m\u001b[0;34m\u001b[0m\u001b[0m\n\u001b[0m\u001b[1;32m     16\u001b[0m   \u001b[0;31m#2. loss function\u001b[0m\u001b[0;34m\u001b[0m\u001b[0;34m\u001b[0m\u001b[0m\n\u001b[1;32m     17\u001b[0m   \u001b[0mloss\u001b[0m \u001b[0;34m=\u001b[0m \u001b[0mloss_fn\u001b[0m\u001b[0;34m(\u001b[0m\u001b[0my_pred\u001b[0m\u001b[0;34m,\u001b[0m \u001b[0my_train\u001b[0m\u001b[0;34m)\u001b[0m\u001b[0;34m\u001b[0m\u001b[0;34m\u001b[0m\u001b[0m\n",
            "\u001b[0;32m/usr/local/lib/python3.10/dist-packages/torch/nn/modules/module.py\u001b[0m in \u001b[0;36m_wrapped_call_impl\u001b[0;34m(self, *args, **kwargs)\u001b[0m\n\u001b[1;32m   1734\u001b[0m             \u001b[0;32mreturn\u001b[0m \u001b[0mself\u001b[0m\u001b[0;34m.\u001b[0m\u001b[0m_compiled_call_impl\u001b[0m\u001b[0;34m(\u001b[0m\u001b[0;34m*\u001b[0m\u001b[0margs\u001b[0m\u001b[0;34m,\u001b[0m \u001b[0;34m**\u001b[0m\u001b[0mkwargs\u001b[0m\u001b[0;34m)\u001b[0m  \u001b[0;31m# type: ignore[misc]\u001b[0m\u001b[0;34m\u001b[0m\u001b[0;34m\u001b[0m\u001b[0m\n\u001b[1;32m   1735\u001b[0m         \u001b[0;32melse\u001b[0m\u001b[0;34m:\u001b[0m\u001b[0;34m\u001b[0m\u001b[0;34m\u001b[0m\u001b[0m\n\u001b[0;32m-> 1736\u001b[0;31m             \u001b[0;32mreturn\u001b[0m \u001b[0mself\u001b[0m\u001b[0;34m.\u001b[0m\u001b[0m_call_impl\u001b[0m\u001b[0;34m(\u001b[0m\u001b[0;34m*\u001b[0m\u001b[0margs\u001b[0m\u001b[0;34m,\u001b[0m \u001b[0;34m**\u001b[0m\u001b[0mkwargs\u001b[0m\u001b[0;34m)\u001b[0m\u001b[0;34m\u001b[0m\u001b[0;34m\u001b[0m\u001b[0m\n\u001b[0m\u001b[1;32m   1737\u001b[0m \u001b[0;34m\u001b[0m\u001b[0m\n\u001b[1;32m   1738\u001b[0m     \u001b[0;31m# torchrec tests the code consistency with the following code\u001b[0m\u001b[0;34m\u001b[0m\u001b[0;34m\u001b[0m\u001b[0m\n",
            "\u001b[0;32m/usr/local/lib/python3.10/dist-packages/torch/nn/modules/module.py\u001b[0m in \u001b[0;36m_call_impl\u001b[0;34m(self, *args, **kwargs)\u001b[0m\n\u001b[1;32m   1745\u001b[0m                 \u001b[0;32mor\u001b[0m \u001b[0m_global_backward_pre_hooks\u001b[0m \u001b[0;32mor\u001b[0m \u001b[0m_global_backward_hooks\u001b[0m\u001b[0;34m\u001b[0m\u001b[0;34m\u001b[0m\u001b[0m\n\u001b[1;32m   1746\u001b[0m                 or _global_forward_hooks or _global_forward_pre_hooks):\n\u001b[0;32m-> 1747\u001b[0;31m             \u001b[0;32mreturn\u001b[0m \u001b[0mforward_call\u001b[0m\u001b[0;34m(\u001b[0m\u001b[0;34m*\u001b[0m\u001b[0margs\u001b[0m\u001b[0;34m,\u001b[0m \u001b[0;34m**\u001b[0m\u001b[0mkwargs\u001b[0m\u001b[0;34m)\u001b[0m\u001b[0;34m\u001b[0m\u001b[0;34m\u001b[0m\u001b[0m\n\u001b[0m\u001b[1;32m   1748\u001b[0m \u001b[0;34m\u001b[0m\u001b[0m\n\u001b[1;32m   1749\u001b[0m         \u001b[0mresult\u001b[0m \u001b[0;34m=\u001b[0m \u001b[0;32mNone\u001b[0m\u001b[0;34m\u001b[0m\u001b[0;34m\u001b[0m\u001b[0m\n",
            "\u001b[0;32m<ipython-input-101-b5e97a37c75c>\u001b[0m in \u001b[0;36mforward\u001b[0;34m(self, x)\u001b[0m\n\u001b[1;32m      7\u001b[0m     \u001b[0mself\u001b[0m\u001b[0;34m.\u001b[0m\u001b[0mlinear_layer\u001b[0m \u001b[0;34m=\u001b[0m \u001b[0mnn\u001b[0m\u001b[0;34m.\u001b[0m\u001b[0mLinear\u001b[0m\u001b[0;34m(\u001b[0m\u001b[0min_features\u001b[0m\u001b[0;34m=\u001b[0m\u001b[0;36m1\u001b[0m\u001b[0;34m,\u001b[0m\u001b[0mout_features\u001b[0m\u001b[0;34m=\u001b[0m\u001b[0;36m1\u001b[0m\u001b[0;34m)\u001b[0m\u001b[0;31m#in_feature =1=out_feature this is cause the for every one value of X there is one value of y\u001b[0m\u001b[0;34m\u001b[0m\u001b[0;34m\u001b[0m\u001b[0m\n\u001b[1;32m      8\u001b[0m   \u001b[0;32mdef\u001b[0m \u001b[0mforward\u001b[0m\u001b[0;34m(\u001b[0m\u001b[0mself\u001b[0m\u001b[0;34m,\u001b[0m\u001b[0mx\u001b[0m\u001b[0;34m:\u001b[0m \u001b[0mtorch\u001b[0m\u001b[0;34m.\u001b[0m\u001b[0mtensor\u001b[0m\u001b[0;34m)\u001b[0m\u001b[0;34m->\u001b[0m\u001b[0mtorch\u001b[0m\u001b[0;34m.\u001b[0m\u001b[0mTensor\u001b[0m\u001b[0;34m:\u001b[0m\u001b[0;34m\u001b[0m\u001b[0;34m\u001b[0m\u001b[0m\n\u001b[0;32m----> 9\u001b[0;31m     \u001b[0;32mreturn\u001b[0m \u001b[0mself\u001b[0m\u001b[0;34m.\u001b[0m\u001b[0mlinear_layer\u001b[0m\u001b[0;34m(\u001b[0m\u001b[0mx\u001b[0m\u001b[0;34m)\u001b[0m\u001b[0;34m\u001b[0m\u001b[0;34m\u001b[0m\u001b[0m\n\u001b[0m\u001b[1;32m     10\u001b[0m \u001b[0;34m\u001b[0m\u001b[0m\n\u001b[1;32m     11\u001b[0m \u001b[0mtorch\u001b[0m\u001b[0;34m.\u001b[0m\u001b[0mmanual_seed\u001b[0m\u001b[0;34m(\u001b[0m\u001b[0;36m42\u001b[0m\u001b[0;34m)\u001b[0m\u001b[0;34m\u001b[0m\u001b[0;34m\u001b[0m\u001b[0m\n",
            "\u001b[0;32m/usr/local/lib/python3.10/dist-packages/torch/nn/modules/module.py\u001b[0m in \u001b[0;36m_wrapped_call_impl\u001b[0;34m(self, *args, **kwargs)\u001b[0m\n\u001b[1;32m   1734\u001b[0m             \u001b[0;32mreturn\u001b[0m \u001b[0mself\u001b[0m\u001b[0;34m.\u001b[0m\u001b[0m_compiled_call_impl\u001b[0m\u001b[0;34m(\u001b[0m\u001b[0;34m*\u001b[0m\u001b[0margs\u001b[0m\u001b[0;34m,\u001b[0m \u001b[0;34m**\u001b[0m\u001b[0mkwargs\u001b[0m\u001b[0;34m)\u001b[0m  \u001b[0;31m# type: ignore[misc]\u001b[0m\u001b[0;34m\u001b[0m\u001b[0;34m\u001b[0m\u001b[0m\n\u001b[1;32m   1735\u001b[0m         \u001b[0;32melse\u001b[0m\u001b[0;34m:\u001b[0m\u001b[0;34m\u001b[0m\u001b[0;34m\u001b[0m\u001b[0m\n\u001b[0;32m-> 1736\u001b[0;31m             \u001b[0;32mreturn\u001b[0m \u001b[0mself\u001b[0m\u001b[0;34m.\u001b[0m\u001b[0m_call_impl\u001b[0m\u001b[0;34m(\u001b[0m\u001b[0;34m*\u001b[0m\u001b[0margs\u001b[0m\u001b[0;34m,\u001b[0m \u001b[0;34m**\u001b[0m\u001b[0mkwargs\u001b[0m\u001b[0;34m)\u001b[0m\u001b[0;34m\u001b[0m\u001b[0;34m\u001b[0m\u001b[0m\n\u001b[0m\u001b[1;32m   1737\u001b[0m \u001b[0;34m\u001b[0m\u001b[0m\n\u001b[1;32m   1738\u001b[0m     \u001b[0;31m# torchrec tests the code consistency with the following code\u001b[0m\u001b[0;34m\u001b[0m\u001b[0;34m\u001b[0m\u001b[0m\n",
            "\u001b[0;32m/usr/local/lib/python3.10/dist-packages/torch/nn/modules/module.py\u001b[0m in \u001b[0;36m_call_impl\u001b[0;34m(self, *args, **kwargs)\u001b[0m\n\u001b[1;32m   1745\u001b[0m                 \u001b[0;32mor\u001b[0m \u001b[0m_global_backward_pre_hooks\u001b[0m \u001b[0;32mor\u001b[0m \u001b[0m_global_backward_hooks\u001b[0m\u001b[0;34m\u001b[0m\u001b[0;34m\u001b[0m\u001b[0m\n\u001b[1;32m   1746\u001b[0m                 or _global_forward_hooks or _global_forward_pre_hooks):\n\u001b[0;32m-> 1747\u001b[0;31m             \u001b[0;32mreturn\u001b[0m \u001b[0mforward_call\u001b[0m\u001b[0;34m(\u001b[0m\u001b[0;34m*\u001b[0m\u001b[0margs\u001b[0m\u001b[0;34m,\u001b[0m \u001b[0;34m**\u001b[0m\u001b[0mkwargs\u001b[0m\u001b[0;34m)\u001b[0m\u001b[0;34m\u001b[0m\u001b[0;34m\u001b[0m\u001b[0m\n\u001b[0m\u001b[1;32m   1748\u001b[0m \u001b[0;34m\u001b[0m\u001b[0m\n\u001b[1;32m   1749\u001b[0m         \u001b[0mresult\u001b[0m \u001b[0;34m=\u001b[0m \u001b[0;32mNone\u001b[0m\u001b[0;34m\u001b[0m\u001b[0;34m\u001b[0m\u001b[0m\n",
            "\u001b[0;32m/usr/local/lib/python3.10/dist-packages/torch/nn/modules/linear.py\u001b[0m in \u001b[0;36mforward\u001b[0;34m(self, input)\u001b[0m\n\u001b[1;32m    123\u001b[0m \u001b[0;34m\u001b[0m\u001b[0m\n\u001b[1;32m    124\u001b[0m     \u001b[0;32mdef\u001b[0m \u001b[0mforward\u001b[0m\u001b[0;34m(\u001b[0m\u001b[0mself\u001b[0m\u001b[0;34m,\u001b[0m \u001b[0minput\u001b[0m\u001b[0;34m:\u001b[0m \u001b[0mTensor\u001b[0m\u001b[0;34m)\u001b[0m \u001b[0;34m->\u001b[0m \u001b[0mTensor\u001b[0m\u001b[0;34m:\u001b[0m\u001b[0;34m\u001b[0m\u001b[0;34m\u001b[0m\u001b[0m\n\u001b[0;32m--> 125\u001b[0;31m         \u001b[0;32mreturn\u001b[0m \u001b[0mF\u001b[0m\u001b[0;34m.\u001b[0m\u001b[0mlinear\u001b[0m\u001b[0;34m(\u001b[0m\u001b[0minput\u001b[0m\u001b[0;34m,\u001b[0m \u001b[0mself\u001b[0m\u001b[0;34m.\u001b[0m\u001b[0mweight\u001b[0m\u001b[0;34m,\u001b[0m \u001b[0mself\u001b[0m\u001b[0;34m.\u001b[0m\u001b[0mbias\u001b[0m\u001b[0;34m)\u001b[0m\u001b[0;34m\u001b[0m\u001b[0;34m\u001b[0m\u001b[0m\n\u001b[0m\u001b[1;32m    126\u001b[0m \u001b[0;34m\u001b[0m\u001b[0m\n\u001b[1;32m    127\u001b[0m     \u001b[0;32mdef\u001b[0m \u001b[0mextra_repr\u001b[0m\u001b[0;34m(\u001b[0m\u001b[0mself\u001b[0m\u001b[0;34m)\u001b[0m \u001b[0;34m->\u001b[0m \u001b[0mstr\u001b[0m\u001b[0;34m:\u001b[0m\u001b[0;34m\u001b[0m\u001b[0;34m\u001b[0m\u001b[0m\n",
            "\u001b[0;31mRuntimeError\u001b[0m: mat1 and mat2 must have the same dtype, but got Long and Float"
          ]
        }
      ]
    },
    {
      "cell_type": "code",
      "source": [
        "X_train.dtype,y_train.dtype,X_test.dtype,y_test.dtype\n"
      ],
      "metadata": {
        "colab": {
          "base_uri": "https://localhost:8080/"
        },
        "id": "VfWhj6RUhcNX",
        "outputId": "7b30a80d-b2ea-4782-cd84-d581ecc91324"
      },
      "execution_count": null,
      "outputs": [
        {
          "output_type": "execute_result",
          "data": {
            "text/plain": [
              "(torch.float32, torch.float32, torch.float32, torch.float32)"
            ]
          },
          "metadata": {},
          "execution_count": 54
        }
      ]
    },
    {
      "cell_type": "code",
      "source": [
        "model_1.state_dict()"
      ],
      "metadata": {
        "colab": {
          "base_uri": "https://localhost:8080/"
        },
        "id": "P9e8ex04jD-r",
        "outputId": "c30dc451-52de-4222-9add-021538b81e64"
      },
      "execution_count": null,
      "outputs": [
        {
          "output_type": "execute_result",
          "data": {
            "text/plain": [
              "OrderedDict([('linear_layer.weight', tensor([[0.7645]], device='cuda:0')),\n",
              "             ('linear_layer.bias', tensor([0.8300], device='cuda:0'))])"
            ]
          },
          "metadata": {},
          "execution_count": 55
        }
      ]
    },
    {
      "cell_type": "markdown",
      "source": [
        "###AGAIN VIS"
      ],
      "metadata": {
        "id": "9REoRSTYkgO-"
      }
    },
    {
      "cell_type": "code",
      "source": [
        "plot_predictions(predictions=y_preds.cpu())"
      ],
      "metadata": {
        "colab": {
          "base_uri": "https://localhost:8080/",
          "height": 599
        },
        "id": "jCY5Woglmzrt",
        "outputId": "78060b9c-409d-42c6-c1ce-b39847a26abc"
      },
      "execution_count": null,
      "outputs": [
        {
          "output_type": "display_data",
          "data": {
            "text/plain": [
              "<Figure size 1000x700 with 1 Axes>"
            ],
            "image/png": "[encoded data removed]"
          },
          "metadata": {}
        }
      ]
    }
  ]
}