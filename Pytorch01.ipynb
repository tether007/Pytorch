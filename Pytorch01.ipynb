{
  "nbformat": 4,
  "nbformat_minor": 0,
  "metadata": {
    "colab": {
      "provenance": [],
      "authorship_tag": "ABX9TyO32URa0R0oCCDi9gSznqvG",
      "include_colab_link": true
    },
    "kernelspec": {
      "name": "python3",
      "display_name": "Python 3"
    },
    "language_info": {
      "name": "python"
    }
  },
  "cells": [
    {
      "cell_type": "markdown",
      "metadata": {
        "id": "view-in-github",
        "colab_type": "text"
      },
      "source": [
        "<a href=\"https://colab.research.google.com/github/tether007/Pytorch/blob/main/Pytorch01.ipynb\" target=\"_parent\"><img src=\"https://colab.research.google.com/assets/colab-badge.svg\" alt=\"Open In Colab\"/></a>"
      ]
    },
    {
      "cell_type": "markdown",
      "source": [
        "##**Fundamentals of pytorch**\n",
        "ref notebook=\"https://www.learnpytorch.io/00_pytorch_fundamentals/\""
      ],
      "metadata": {
        "id": "1U7rPdevV12X"
      }
    },
    {
      "cell_type": "code",
      "execution_count": null,
      "metadata": {
        "colab": {
          "base_uri": "https://localhost:8080/"
        },
        "id": "ZlY6antFUj0N",
        "outputId": "18895614-1f9d-46a3-a03c-6fed6bd8650c"
      },
      "outputs": [
        {
          "output_type": "stream",
          "name": "stdout",
          "text": [
            "2.5.0+cu121\n"
          ]
        }
      ],
      "source": [
        "import torch\n",
        "import pandas as py\n",
        "import matplotlib as mp\n",
        "import numpy as np\n",
        "print(torch.__version__)"
      ]
    },
    {
      "cell_type": "code",
      "source": [
        "#scalar\n",
        "scalar = torch.tensor(7)\n",
        "scalar"
      ],
      "metadata": {
        "colab": {
          "base_uri": "https://localhost:8080/"
        },
        "id": "x0W2Q0oKVLtg",
        "outputId": "2eda6506-6b29-476b-99a1-3dbb9a72752a"
      },
      "execution_count": null,
      "outputs": [
        {
          "output_type": "execute_result",
          "data": {
            "text/plain": [
              "tensor(7)"
            ]
          },
          "metadata": {},
          "execution_count": 27
        }
      ]
    },
    {
      "cell_type": "code",
      "source": [
        "#getting tensor as int\n",
        "scalar.item()"
      ],
      "metadata": {
        "colab": {
          "base_uri": "https://localhost:8080/"
        },
        "id": "G_yroBGFVoNX",
        "outputId": "34554caf-8bd9-4957-e3f7-d4c8a55b522a"
      },
      "execution_count": null,
      "outputs": [
        {
          "output_type": "execute_result",
          "data": {
            "text/plain": [
              "7"
            ]
          },
          "metadata": {},
          "execution_count": 28
        }
      ]
    },
    {
      "cell_type": "code",
      "source": [
        "#Vector\n",
        "vector=torch.tensor([9,6])\n",
        "vector"
      ],
      "metadata": {
        "colab": {
          "base_uri": "https://localhost:8080/"
        },
        "id": "bvjYLvUTYKvk",
        "outputId": "bab3f6e5-8982-4461-be38-f046cb3b45b9"
      },
      "execution_count": null,
      "outputs": [
        {
          "output_type": "execute_result",
          "data": {
            "text/plain": [
              "tensor([9, 6])"
            ]
          },
          "metadata": {},
          "execution_count": 29
        }
      ]
    },
    {
      "cell_type": "code",
      "source": [
        "torch.Size([2])"
      ],
      "metadata": {
        "colab": {
          "base_uri": "https://localhost:8080/"
        },
        "id": "yJFo3MRwYdW1",
        "outputId": "5430dd7d-d834-4537-9307-76d1d0e74b4f"
      },
      "execution_count": null,
      "outputs": [
        {
          "output_type": "execute_result",
          "data": {
            "text/plain": [
              "torch.Size([2])"
            ]
          },
          "metadata": {},
          "execution_count": 30
        }
      ]
    },
    {
      "cell_type": "code",
      "source": [
        "#Matrix\n",
        "MATRIX=torch.tensor([[2,3],\n",
        "                    [3,4]])\n",
        "MATRIX\n",
        "MATRIX.ndim"
      ],
      "metadata": {
        "colab": {
          "base_uri": "https://localhost:8080/"
        },
        "id": "mM32o6r5Ym_h",
        "outputId": "03e580df-0b5e-4f1f-8017-4c100e9bdfee"
      },
      "execution_count": null,
      "outputs": [
        {
          "output_type": "execute_result",
          "data": {
            "text/plain": [
              "2"
            ]
          },
          "metadata": {},
          "execution_count": 31
        }
      ]
    },
    {
      "cell_type": "code",
      "source": [
        "MATRIX[0]"
      ],
      "metadata": {
        "colab": {
          "base_uri": "https://localhost:8080/"
        },
        "id": "Hr_uzidOYq5I",
        "outputId": "c9876d3a-c646-4885-ae86-1d39393f530c"
      },
      "execution_count": null,
      "outputs": [
        {
          "output_type": "execute_result",
          "data": {
            "text/plain": [
              "tensor([2, 3])"
            ]
          },
          "metadata": {},
          "execution_count": 32
        }
      ]
    },
    {
      "cell_type": "code",
      "source": [
        "MATRIX.shape"
      ],
      "metadata": {
        "colab": {
          "base_uri": "https://localhost:8080/"
        },
        "id": "fHa4tTcCZP0X",
        "outputId": "a13e23d7-4b2d-4b5f-ba97-02d2ef8eb257"
      },
      "execution_count": null,
      "outputs": [
        {
          "output_type": "execute_result",
          "data": {
            "text/plain": [
              "torch.Size([2, 2])"
            ]
          },
          "metadata": {},
          "execution_count": 33
        }
      ]
    },
    {
      "cell_type": "code",
      "source": [
        "#TENSOR\n",
        "TENSOR = torch.tensor([[1,2,3],[4,3,5]])\n",
        "TENSOR"
      ],
      "metadata": {
        "colab": {
          "base_uri": "https://localhost:8080/"
        },
        "id": "pFOyXcJ_ZTRN",
        "outputId": "fe1358e9-284b-497a-9e7a-66640016620c"
      },
      "execution_count": null,
      "outputs": [
        {
          "output_type": "execute_result",
          "data": {
            "text/plain": [
              "tensor([[1, 2, 3],\n",
              "        [4, 3, 5]])"
            ]
          },
          "metadata": {},
          "execution_count": 34
        }
      ]
    },
    {
      "cell_type": "code",
      "source": [
        "TENSOR.ndim"
      ],
      "metadata": {
        "colab": {
          "base_uri": "https://localhost:8080/"
        },
        "id": "0Ehs2gmoZabC",
        "outputId": "d0464675-7570-4ff3-81be-5fc4098d8da9"
      },
      "execution_count": null,
      "outputs": [
        {
          "output_type": "execute_result",
          "data": {
            "text/plain": [
              "2"
            ]
          },
          "metadata": {},
          "execution_count": 35
        }
      ]
    },
    {
      "cell_type": "code",
      "source": [
        "TENSOR1=torch.tensor([[[1,3],[2,3]]])\n",
        "TENSOR1.shape"
      ],
      "metadata": {
        "colab": {
          "base_uri": "https://localhost:8080/"
        },
        "id": "1kLi_VaiaLfD",
        "outputId": "4138a5ed-2244-4ecd-9b21-f5eb89d9350d"
      },
      "execution_count": null,
      "outputs": [
        {
          "output_type": "execute_result",
          "data": {
            "text/plain": [
              "torch.Size([1, 2, 2])"
            ]
          },
          "metadata": {},
          "execution_count": 36
        }
      ]
    },
    {
      "cell_type": "markdown",
      "source": [
        "### **RANDOM TENSORS**\n",
        "Random tensors are imp as NN(neural networs)genarally use these and keep on iterate the numbers to make a representation\n",
        "TORCH random-->\"https://pytorch.org/docs/stable/generated/torch.rand.html\""
      ],
      "metadata": {
        "id": "ZRJ-Mu8JbZ9u"
      }
    },
    {
      "cell_type": "code",
      "source": [
        "random_tensor=torch.rand(3,4)\n",
        "random_tensor\n"
      ],
      "metadata": {
        "colab": {
          "base_uri": "https://localhost:8080/"
        },
        "id": "VlQbo9spbyTl",
        "outputId": "160465de-8331-44ae-93b4-121b61549e65"
      },
      "execution_count": null,
      "outputs": [
        {
          "output_type": "execute_result",
          "data": {
            "text/plain": [
              "tensor([[0.9321, 0.6396, 0.2028, 0.5529],\n",
              "        [0.4142, 0.7622, 0.3031, 0.4297],\n",
              "        [0.6534, 0.3412, 0.6279, 0.5664]])"
            ]
          },
          "metadata": {},
          "execution_count": 37
        }
      ]
    },
    {
      "cell_type": "code",
      "source": [
        "#Create a random tensor similar shape to an image tensor\n",
        "rand_image_size_tensor=torch.rand(size=(3,244,244))#size or doesnt matter on n the same\n",
        "#here 3 is no:of color channels ie R G B and 244,244 are Height n bredth\n",
        "rand_image_size_tensor"
      ],
      "metadata": {
        "id": "D-GfWCzQebVA",
        "colab": {
          "base_uri": "https://localhost:8080/"
        },
        "outputId": "91090391-e0d2-47f1-a392-e90266c07665"
      },
      "execution_count": null,
      "outputs": [
        {
          "output_type": "execute_result",
          "data": {
            "text/plain": [
              "tensor([[[0.6101, 0.3508, 0.2129,  ..., 0.8545, 0.4759, 0.9839],\n",
              "         [0.8634, 0.6974, 0.4627,  ..., 0.2300, 0.7674, 0.3086],\n",
              "         [0.9434, 0.9403, 0.9153,  ..., 0.1110, 0.7011, 0.1443],\n",
              "         ...,\n",
              "         [0.4328, 0.2061, 0.8738,  ..., 0.6993, 0.8919, 0.9877],\n",
              "         [0.9981, 0.0658, 0.7043,  ..., 0.3554, 0.0258, 0.0770],\n",
              "         [0.1399, 0.6239, 0.1733,  ..., 0.8477, 0.5004, 0.9166]],\n",
              "\n",
              "        [[0.5800, 0.1526, 0.2771,  ..., 0.3873, 0.4077, 0.4034],\n",
              "         [0.2078, 0.6509, 0.1809,  ..., 0.2086, 0.4797, 0.2402],\n",
              "         [0.0241, 0.5128, 0.8821,  ..., 0.8317, 0.7371, 0.0980],\n",
              "         ...,\n",
              "         [0.2927, 0.6578, 0.7346,  ..., 0.7307, 0.1490, 0.8090],\n",
              "         [0.2406, 0.7043, 0.8040,  ..., 0.3150, 0.1727, 0.1194],\n",
              "         [0.4584, 0.6018, 0.5142,  ..., 0.3104, 0.2013, 0.2132]],\n",
              "\n",
              "        [[0.9411, 0.8859, 0.7598,  ..., 0.1180, 0.7353, 0.3602],\n",
              "         [0.2368, 0.6046, 0.2193,  ..., 0.9973, 0.2239, 0.3697],\n",
              "         [0.1867, 0.1934, 0.6595,  ..., 0.9821, 0.2220, 0.1673],\n",
              "         ...,\n",
              "         [0.5821, 0.0612, 0.3198,  ..., 0.6933, 0.8885, 0.7830],\n",
              "         [0.7139, 0.4611, 0.3329,  ..., 0.9385, 0.7195, 0.8696],\n",
              "         [0.7922, 0.2238, 0.3107,  ..., 0.6470, 0.3240, 0.5496]]])"
            ]
          },
          "metadata": {},
          "execution_count": 38
        }
      ]
    },
    {
      "cell_type": "markdown",
      "source": [
        "### **ZEROS AND ONES**"
      ],
      "metadata": {
        "id": "Y_xcnEQfoKNO"
      }
    },
    {
      "cell_type": "code",
      "source": [
        "zeros=torch.zeros(size=(3,4))"
      ],
      "metadata": {
        "id": "sCoCBYmWnz2h"
      },
      "execution_count": null,
      "outputs": []
    },
    {
      "cell_type": "code",
      "source": [
        "ones=torch.ones(size=(3,4))"
      ],
      "metadata": {
        "id": "eVo7-ofto1Dx"
      },
      "execution_count": null,
      "outputs": []
    },
    {
      "cell_type": "code",
      "source": [
        "zeros*ones"
      ],
      "metadata": {
        "colab": {
          "base_uri": "https://localhost:8080/"
        },
        "id": "7ydkTnavo_rr",
        "outputId": "14b2b5a9-9419-44b4-9ef1-6f558c9fa46e"
      },
      "execution_count": null,
      "outputs": [
        {
          "output_type": "execute_result",
          "data": {
            "text/plain": [
              "tensor([[0., 0., 0., 0.],\n",
              "        [0., 0., 0., 0.],\n",
              "        [0., 0., 0., 0.]])"
            ]
          },
          "metadata": {},
          "execution_count": 41
        }
      ]
    },
    {
      "cell_type": "code",
      "source": [
        "ones.dtype#default type of tensors are float"
      ],
      "metadata": {
        "colab": {
          "base_uri": "https://localhost:8080/"
        },
        "id": "r1l5PqnWpB8S",
        "outputId": "32a223f8-f4dd-4c33-dc0f-d2b21c9498fc"
      },
      "execution_count": null,
      "outputs": [
        {
          "output_type": "execute_result",
          "data": {
            "text/plain": [
              "torch.float32"
            ]
          },
          "metadata": {},
          "execution_count": 42
        }
      ]
    },
    {
      "cell_type": "markdown",
      "source": [
        "### CREATING A RANGE OF TENSORS n TENSORS-LIKE"
      ],
      "metadata": {
        "id": "DwHsOtvCpMpH"
      }
    },
    {
      "cell_type": "code",
      "source": [
        "one_to_10=torch.arange(0,10)\n",
        "one_to_10\n",
        "one_t0_1000=torch.arange(1,1000,19)#(start,end,step)\n",
        "one_t0_1000"
      ],
      "metadata": {
        "colab": {
          "base_uri": "https://localhost:8080/"
        },
        "id": "386JI2Ugpg9Y",
        "outputId": "df5ed3e7-5fc1-4d42-f575-ee98f0f49256"
      },
      "execution_count": null,
      "outputs": [
        {
          "output_type": "execute_result",
          "data": {
            "text/plain": [
              "tensor([  1,  20,  39,  58,  77,  96, 115, 134, 153, 172, 191, 210, 229, 248,\n",
              "        267, 286, 305, 324, 343, 362, 381, 400, 419, 438, 457, 476, 495, 514,\n",
              "        533, 552, 571, 590, 609, 628, 647, 666, 685, 704, 723, 742, 761, 780,\n",
              "        799, 818, 837, 856, 875, 894, 913, 932, 951, 970, 989])"
            ]
          },
          "metadata": {},
          "execution_count": 43
        }
      ]
    },
    {
      "cell_type": "code",
      "source": [
        "# creating tensors like\n",
        "ten_zeros = torch.ones_like(one_to_10)\n",
        "ten_zeros"
      ],
      "metadata": {
        "colab": {
          "base_uri": "https://localhost:8080/"
        },
        "id": "QZk56Q1Lp25i",
        "outputId": "7011ed0f-bbe8-4474-e7aa-f316c7755903"
      },
      "execution_count": null,
      "outputs": [
        {
          "output_type": "execute_result",
          "data": {
            "text/plain": [
              "tensor([1, 1, 1, 1, 1, 1, 1, 1, 1, 1])"
            ]
          },
          "metadata": {},
          "execution_count": 44
        }
      ]
    },
    {
      "cell_type": "markdown",
      "source": [
        "### TENSOR DATATYPES\n",
        "**NOTE**:Tensor datatypes is one of the 3 big errors\n",
        "1. tensors not in right datatype\n",
        "1. tensors not in right shape\n",
        "1. tensors not on right device"
      ],
      "metadata": {
        "id": "FZ3TgyoSqw_3"
      }
    },
    {
      "cell_type": "code",
      "source": [
        "#float 32 tensor\n",
        "f_32_tensor=torch.tensor([[[1,3,4],[2,3,4]]],dtype=None,#tensor's datatype\n",
        "                         device=None,#what device is tensor on\n",
        "                         requires_grad=False)#whether or not to track gradient"
      ],
      "metadata": {
        "id": "8-e_qNVEri9V"
      },
      "execution_count": null,
      "outputs": []
    },
    {
      "cell_type": "code",
      "source": [
        "f_32_tensor"
      ],
      "metadata": {
        "colab": {
          "base_uri": "https://localhost:8080/"
        },
        "id": "PnG6LA12rvdB",
        "outputId": "d064135c-8e23-4296-852a-af88cbad9590"
      },
      "execution_count": null,
      "outputs": [
        {
          "output_type": "execute_result",
          "data": {
            "text/plain": [
              "tensor([[[1, 3, 4],\n",
              "         [2, 3, 4]]])"
            ]
          },
          "metadata": {},
          "execution_count": 46
        }
      ]
    },
    {
      "cell_type": "code",
      "source": [
        "f_16_tensor=f_32_tensor.type(torch.half)\n",
        "f_32_tensor*f_16_tensor"
      ],
      "metadata": {
        "colab": {
          "base_uri": "https://localhost:8080/"
        },
        "id": "OFMxk1TbsF84",
        "outputId": "2a1aef8f-0902-4720-9bfc-7dd96b1e0f74"
      },
      "execution_count": null,
      "outputs": [
        {
          "output_type": "execute_result",
          "data": {
            "text/plain": [
              "tensor([[[ 1.,  9., 16.],\n",
              "         [ 4.,  9., 16.]]], dtype=torch.float16)"
            ]
          },
          "metadata": {},
          "execution_count": 47
        }
      ]
    },
    {
      "cell_type": "code",
      "source": [],
      "metadata": {
        "id": "K1b63XxLwymp"
      },
      "execution_count": null,
      "outputs": []
    },
    {
      "cell_type": "markdown",
      "source": [
        "### GETTING INFO FROM TENSORS\n",
        "1. tensors not in right datatype->tensor.dtype\n",
        "2. tensors not in right shape->tensor.shape\n",
        "3. tensors not on right device->tensor.device"
      ],
      "metadata": {
        "id": "lKIaobJ2Gpqc"
      }
    },
    {
      "cell_type": "code",
      "source": [
        "#create a tensor\n",
        "sm_tensor = torch.rand(3,4)\n",
        "sm_tensor"
      ],
      "metadata": {
        "colab": {
          "base_uri": "https://localhost:8080/"
        },
        "id": "CgU2aruwITsN",
        "outputId": "e383e821-dc63-49b3-a3ec-999a4e573bf6"
      },
      "execution_count": null,
      "outputs": [
        {
          "output_type": "execute_result",
          "data": {
            "text/plain": [
              "tensor([[0.9884, 0.1067, 0.4413, 0.7009],\n",
              "        [0.6854, 0.8788, 0.2641, 0.7195],\n",
              "        [0.4390, 0.6951, 0.8629, 0.5003]])"
            ]
          },
          "metadata": {},
          "execution_count": 48
        }
      ]
    },
    {
      "cell_type": "code",
      "source": [
        "print(sm_tensor.dtype)\n",
        "print(sm_tensor.device)\n",
        "print(sm_tensor.shape)"
      ],
      "metadata": {
        "colab": {
          "base_uri": "https://localhost:8080/"
        },
        "id": "SqG81Jw0IbPE",
        "outputId": "5cc0f5b9-92a9-4446-dd4d-5823c1cae22a"
      },
      "execution_count": null,
      "outputs": [
        {
          "output_type": "stream",
          "name": "stdout",
          "text": [
            "torch.float32\n",
            "cpu\n",
            "torch.Size([3, 4])\n"
          ]
        }
      ]
    },
    {
      "cell_type": "markdown",
      "source": [],
      "metadata": {
        "id": "5jmg7cBbIswA"
      }
    },
    {
      "cell_type": "markdown",
      "source": [
        "### Manipulating tensors\n",
        "\n",
        "1. Addition\n",
        "2. Sub\n",
        "3. Multiplication\n",
        "4. Division\n",
        "5. Matrix Multiplication"
      ],
      "metadata": {
        "id": "ov4X31PMKHH0"
      }
    },
    {
      "cell_type": "code",
      "source": [
        "#tensor basic ops:\n",
        "tensor = torch.tensor([1,2,3])\n",
        "#tensor + 10\n",
        "#tensor*10\n",
        "#tensor-10\n"
      ],
      "metadata": {
        "colab": {
          "base_uri": "https://localhost:8080/"
        },
        "id": "eJaP_J-fdifA",
        "outputId": "cb07b639-79e5-4d94-acf4-dfc1156a2daf"
      },
      "execution_count": null,
      "outputs": [
        {
          "output_type": "execute_result",
          "data": {
            "text/plain": [
              "tensor([-9, -8, -7])"
            ]
          },
          "metadata": {},
          "execution_count": 53
        }
      ]
    },
    {
      "cell_type": "markdown",
      "source": [
        "### Matrix multiplication\n",
        "1. Element-wise and\n",
        "2. Matrix wise(dot product)\n"
      ],
      "metadata": {
        "id": "1mWob1addtAL"
      }
    },
    {
      "cell_type": "code",
      "source": [
        "#Element wise mul\n",
        "tensor = torch.tensor([68,34,120])\n",
        "print(f'{tensor}*{tensor}={tensor*tensor}')"
      ],
      "metadata": {
        "colab": {
          "base_uri": "https://localhost:8080/"
        },
        "id": "aU9lzs5fe2pi",
        "outputId": "9563c61f-b2ec-47e6-8436-dc2301045ea6"
      },
      "execution_count": null,
      "outputs": [
        {
          "output_type": "stream",
          "name": "stdout",
          "text": [
            "tensor([ 68,  34, 120])*tensor([ 68,  34, 120])=tensor([ 4624,  1156, 14400])\n"
          ]
        }
      ]
    },
    {
      "cell_type": "code",
      "source": [
        "#Matrix Multiplication\n",
        "torch.matmul(tensor,tensor)"
      ],
      "metadata": {
        "colab": {
          "base_uri": "https://localhost:8080/"
        },
        "id": "RpXWLTH6fwX-",
        "outputId": "9f3e12bc-5ee5-4a7b-ba77-2a51cbd0cff1"
      },
      "execution_count": null,
      "outputs": [
        {
          "output_type": "execute_result",
          "data": {
            "text/plain": [
              "tensor(20180)"
            ]
          },
          "metadata": {},
          "execution_count": 57
        }
      ]
    },
    {
      "cell_type": "markdown",
      "source": [
        "### one of the most common error in DL is shape error:\n",
        "so to overcome issue of mat mul in pytorch:\n",
        "1. we have to match the inner dimensions ie (MxN)(NxM)\n",
        "2. The shape is of the outer dimension\n",
        "(MxM)\n"
      ],
      "metadata": {
        "id": "Px01CmR1gFLR"
      }
    },
    {
      "cell_type": "code",
      "source": [
        "torch.matmul(torch.rand(5,6),torch.rand(6,6))"
      ],
      "metadata": {
        "colab": {
          "base_uri": "https://localhost:8080/"
        },
        "id": "qWxu5kw6iBqB",
        "outputId": "5517fe0b-a140-4c9f-f803-f1cf25471f85"
      },
      "execution_count": null,
      "outputs": [
        {
          "output_type": "execute_result",
          "data": {
            "text/plain": [
              "tensor([[1.7529, 1.2744, 1.0327, 1.5446, 1.8096, 1.3473],\n",
              "        [2.2498, 1.3375, 1.4724, 1.9334, 2.2311, 1.5562],\n",
              "        [1.7050, 0.7847, 1.2594, 1.3632, 1.5129, 1.0121],\n",
              "        [2.1035, 1.4447, 1.0639, 1.8960, 2.1889, 1.8844],\n",
              "        [2.0994, 1.0546, 1.5229, 1.7759, 1.7829, 1.2203]])"
            ]
          },
          "metadata": {},
          "execution_count": 59
        }
      ]
    },
    {
      "cell_type": "code",
      "source": [
        "# to deal with shape errors:Shapes for matrix multiplication\n",
        "tensor1=torch.tensor([[1,2],\n",
        "                      [2,3],\n",
        "                      [4,5]])\n",
        "tensor2=torch.tensor([[7,10],\n",
        "                      [4,8],\n",
        "                      [9,12]])\n",
        "\n"
      ],
      "metadata": {
        "collapsed": true,
        "id": "1dzWT-76iJr0"
      },
      "execution_count": null,
      "outputs": []
    },
    {
      "cell_type": "markdown",
      "source": [
        "TO fix our shape issue we can transpose of the"
      ],
      "metadata": {
        "id": "t1hEzbE-kcag"
      }
    },
    {
      "cell_type": "code",
      "source": [
        "tensor2.T"
      ],
      "metadata": {
        "colab": {
          "base_uri": "https://localhost:8080/"
        },
        "id": "XJM7gbi0k2-_",
        "outputId": "78351eaa-7059-4b1a-e6f3-d523a244ef35"
      },
      "execution_count": null,
      "outputs": [
        {
          "output_type": "execute_result",
          "data": {
            "text/plain": [
              "tensor([[ 7,  4,  9],\n",
              "        [10,  8, 12]])"
            ]
          },
          "metadata": {},
          "execution_count": 68
        }
      ]
    },
    {
      "cell_type": "code",
      "source": [
        "torch.mm(tensor1,tensor2.T)"
      ],
      "metadata": {
        "colab": {
          "base_uri": "https://localhost:8080/"
        },
        "id": "aGp5_UcMk42r",
        "outputId": "01d7808e-c70a-44d8-8249-7c7da9dd2fdc"
      },
      "execution_count": null,
      "outputs": [
        {
          "output_type": "execute_result",
          "data": {
            "text/plain": [
              "tensor([[27, 20, 33],\n",
              "        [44, 32, 54],\n",
              "        [78, 56, 96]])"
            ]
          },
          "metadata": {},
          "execution_count": 69
        }
      ]
    },
    {
      "cell_type": "markdown",
      "source": [
        "##Finding Min,max,mean,sum etc(tensor aggregation)"
      ],
      "metadata": {
        "id": "n1t-93GhlPOS"
      }
    },
    {
      "cell_type": "code",
      "source": [
        "x=torch.arange(1,100,12)\n",
        "x"
      ],
      "metadata": {
        "colab": {
          "base_uri": "https://localhost:8080/"
        },
        "id": "yN_P1t-2mHXC",
        "outputId": "dc541d35-544f-4ed7-d92d-92a13a59eee5"
      },
      "execution_count": null,
      "outputs": [
        {
          "output_type": "execute_result",
          "data": {
            "text/plain": [
              "tensor([ 1, 13, 25, 37, 49, 61, 73, 85, 97])"
            ]
          },
          "metadata": {},
          "execution_count": 71
        }
      ]
    },
    {
      "cell_type": "code",
      "source": [
        "torch.max(x)#/x.max()"
      ],
      "metadata": {
        "colab": {
          "base_uri": "https://localhost:8080/"
        },
        "id": "NzaN72F-mPfm",
        "outputId": "90f710bf-e02c-4737-dc27-c0675635bbe7"
      },
      "execution_count": null,
      "outputs": [
        {
          "output_type": "execute_result",
          "data": {
            "text/plain": [
              "tensor(97)"
            ]
          },
          "metadata": {},
          "execution_count": 74
        }
      ]
    },
    {
      "cell_type": "code",
      "source": [
        "torch.mean(x,dtype=torch.float64)\n",
        "\n"
      ],
      "metadata": {
        "colab": {
          "base_uri": "https://localhost:8080/"
        },
        "id": "gRYYG3uLmViM",
        "outputId": "6a2dcf8e-1fdc-4613-d837-a4d9cb9752a1"
      },
      "execution_count": null,
      "outputs": [
        {
          "output_type": "execute_result",
          "data": {
            "text/plain": [
              "tensor(49., dtype=torch.float64)"
            ]
          },
          "metadata": {},
          "execution_count": 84
        }
      ]
    },
    {
      "cell_type": "code",
      "source": [
        "x.sum()"
      ],
      "metadata": {
        "colab": {
          "base_uri": "https://localhost:8080/"
        },
        "id": "YZemPR7Amr_i",
        "outputId": "17120fff-4bae-4482-c4ce-66411e07c88d"
      },
      "execution_count": null,
      "outputs": [
        {
          "output_type": "execute_result",
          "data": {
            "text/plain": [
              "tensor(441)"
            ]
          },
          "metadata": {},
          "execution_count": 85
        }
      ]
    },
    {
      "cell_type": "markdown",
      "source": [
        "## Positional mean,min,max"
      ],
      "metadata": {
        "id": "AJcxbl3SnppF"
      }
    },
    {
      "cell_type": "code",
      "source": [
        "x=torch.arange(1,100,12)\n",
        "x.argmin()#gives us the index of arg which is minimum value of a tensor\n"
      ],
      "metadata": {
        "colab": {
          "base_uri": "https://localhost:8080/"
        },
        "id": "ofOynuIFn3XY",
        "outputId": "4ecc5359-5af2-445d-e680-a4f918e220b8"
      },
      "execution_count": null,
      "outputs": [
        {
          "output_type": "execute_result",
          "data": {
            "text/plain": [
              "tensor(0)"
            ]
          },
          "metadata": {},
          "execution_count": 90
        }
      ]
    },
    {
      "cell_type": "code",
      "source": [
        "x.argmax()"
      ],
      "metadata": {
        "colab": {
          "base_uri": "https://localhost:8080/"
        },
        "id": "5LXJ2Ia3oUNi",
        "outputId": "bec06336-5655-4b55-8ebf-18950da8848a"
      },
      "execution_count": null,
      "outputs": [
        {
          "output_type": "execute_result",
          "data": {
            "text/plain": [
              "tensor(8)"
            ]
          },
          "metadata": {},
          "execution_count": 91
        }
      ]
    },
    {
      "cell_type": "markdown",
      "source": [
        "##reshaping,stacking,squeezing,unsqueezing\n",
        "1. reshaping->reshapes an input tensor to a defined shape\n",
        "2. View->returns a view of an input tensor while keeping the same memory as the original tensor\n",
        "3. Stacking->combine multiple tensors on top of each other(vtack)or side by side (hstack)\n",
        "4. squeeze->removes all '1' dimensions from a tensor\n",
        "5. unsqueeze->add a 1 dimension to a tensor\n",
        "6. permute->return a view of the input with dimensions permutted(swapped)in a certain way\n"
      ],
      "metadata": {
        "id": "xExThsKqoeDu"
      }
    },
    {
      "cell_type": "code",
      "source": [
        "import torch\n",
        "x=torch.arange(1.,10.)\n",
        "x,x.shape"
      ],
      "metadata": {
        "colab": {
          "base_uri": "https://localhost:8080/"
        },
        "id": "_W5HHVcJpY2x",
        "outputId": "6a1a19e5-235b-4ac9-ad31-4fabfcdeee98"
      },
      "execution_count": null,
      "outputs": [
        {
          "output_type": "execute_result",
          "data": {
            "text/plain": [
              "(tensor([1., 2., 3., 4., 5., 6., 7., 8., 9.]), torch.Size([9]))"
            ]
          },
          "metadata": {},
          "execution_count": 93
        }
      ]
    },
    {
      "cell_type": "code",
      "source": [
        "#add extra dimension\n",
        "x_reshaped=x.reshape(9,1)\n",
        "x_reshaped"
      ],
      "metadata": {
        "colab": {
          "base_uri": "https://localhost:8080/"
        },
        "id": "1DTyNaC9qwub",
        "outputId": "1c94a162-11cd-4708-a3b5-8a6422af49fd"
      },
      "execution_count": null,
      "outputs": [
        {
          "output_type": "execute_result",
          "data": {
            "text/plain": [
              "tensor([[1.],\n",
              "        [2.],\n",
              "        [3.],\n",
              "        [4.],\n",
              "        [5.],\n",
              "        [6.],\n",
              "        [7.],\n",
              "        [8.],\n",
              "        [9.]])"
            ]
          },
          "metadata": {},
          "execution_count": 111
        }
      ]
    },
    {
      "cell_type": "code",
      "source": [
        "x_reshaped.ndim"
      ],
      "metadata": {
        "colab": {
          "base_uri": "https://localhost:8080/"
        },
        "id": "umcjDg2Aq6MC",
        "outputId": "9b2e426d-3bf2-49bb-d0e1-7e376c19b6af"
      },
      "execution_count": null,
      "outputs": [
        {
          "output_type": "execute_result",
          "data": {
            "text/plain": [
              "2"
            ]
          },
          "metadata": {},
          "execution_count": 112
        }
      ]
    },
    {
      "cell_type": "code",
      "source": [
        "#change the view(changes made to a view changes the actual tensor as it is connected to the main tensor)\n",
        "z=x.view(9,1)\n",
        "z\n"
      ],
      "metadata": {
        "colab": {
          "base_uri": "https://localhost:8080/"
        },
        "id": "HvOkjzVRrbr8",
        "outputId": "027b4dbe-971e-43ea-a3e2-7533b59f1741"
      },
      "execution_count": null,
      "outputs": [
        {
          "output_type": "execute_result",
          "data": {
            "text/plain": [
              "tensor([[1.],\n",
              "        [2.],\n",
              "        [3.],\n",
              "        [4.],\n",
              "        [5.],\n",
              "        [6.],\n",
              "        [7.],\n",
              "        [8.],\n",
              "        [9.]])"
            ]
          },
          "metadata": {},
          "execution_count": 116
        }
      ]
    },
    {
      "cell_type": "code",
      "source": [
        "y=torch.arange(0.,9.)\n",
        "x_stacked=torch.stack([y,x,x],dim=0)\n",
        "x_stacked"
      ],
      "metadata": {
        "colab": {
          "base_uri": "https://localhost:8080/"
        },
        "id": "gkUVl4KrtHd9",
        "outputId": "d04160f8-a70c-46dc-ec65-d13c866d6097"
      },
      "execution_count": null,
      "outputs": [
        {
          "output_type": "execute_result",
          "data": {
            "text/plain": [
              "tensor([[0., 1., 2., 3., 4., 5., 6., 7., 8.],\n",
              "        [1., 2., 3., 4., 5., 6., 7., 8., 9.],\n",
              "        [1., 2., 3., 4., 5., 6., 7., 8., 9.]])"
            ]
          },
          "metadata": {},
          "execution_count": 130
        }
      ]
    },
    {
      "cell_type": "code",
      "source": [
        "x_squeeze=torch.squeeze(x[8])\n",
        "x\n"
      ],
      "metadata": {
        "colab": {
          "base_uri": "https://localhost:8080/"
        },
        "id": "1ARGhXsFuFQd",
        "outputId": "e0ae9699-a686-4f32-fb40-572c537cbcdd"
      },
      "execution_count": null,
      "outputs": [
        {
          "output_type": "execute_result",
          "data": {
            "text/plain": [
              "tensor([1., 2., 3., 4., 5., 6., 7., 8., 9.])"
            ]
          },
          "metadata": {},
          "execution_count": 138
        }
      ]
    },
    {
      "cell_type": "code",
      "source": [
        "x"
      ],
      "metadata": {
        "colab": {
          "base_uri": "https://localhost:8080/"
        },
        "id": "PCJoemhGvJ3l",
        "outputId": "3c631b3d-4b60-4bfa-e00c-77351bc78554"
      },
      "execution_count": null,
      "outputs": [
        {
          "output_type": "execute_result",
          "data": {
            "text/plain": [
              "tensor([1., 2., 3., 4., 5., 6., 7., 8., 9.])"
            ]
          },
          "metadata": {},
          "execution_count": 136
        }
      ]
    },
    {
      "cell_type": "code",
      "source": [],
      "metadata": {
        "id": "YnHapeO3xgCF"
      },
      "execution_count": null,
      "outputs": []
    }
  ]
}